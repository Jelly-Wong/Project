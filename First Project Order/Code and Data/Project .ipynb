{
 "cells": [
  {
   "cell_type": "markdown",
   "id": "304b3980",
   "metadata": {},
   "source": [
    "# About the DataSet: Restaurant Order Data\n",
    "\n",
    "A dataset downloaded from Kaggle.com which covers the orders received by a restaurant within a month or 5 weeks.\n",
    "\n",
    "- Order_ID = Order ID Number\n",
    "- TAKEAWAY/SEATING/PICKUP = Method of Dining\n",
    "- DATE = Date of Order\n",
    "- DAY = Day of Order\n",
    "- TIME = Time of Order\n",
    "- SERVER = Restaurant staff on duty\n",
    "- ITEM = Food item name\n",
    "- QUANTITY = Quantity of food order \n",
    "- PRICE = Price of food \n",
    "- TOTAL = Total amount of Order \n",
    "- ALLERGIES = Note on the existense of allergies by customer\n",
    "- FOOD TYPE = Type of food order\n",
    "- WEEK NUMBER = Number of Week "
   ]
  },
  {
   "cell_type": "code",
   "execution_count": 1,
   "id": "13a9541c",
   "metadata": {},
   "outputs": [],
   "source": [
    "# import library that will be used in the project \n",
    "import pandas as pd\n",
    "import numpy as np\n",
    "import matplotlib.pyplot as plt\n",
    "\n",
    "# set the plots to display in the Jupyter notebook\n",
    "%matplotlib inline"
   ]
  },
  {
   "cell_type": "code",
   "execution_count": 2,
   "id": "8181c8ec",
   "metadata": {},
   "outputs": [],
   "source": [
    "# read the dataset as a DataFrame into a variable named 'order'\n",
    "order = pd.read_csv(\"Order Data Restaurant dataset.csv\")"
   ]
  },
  {
   "cell_type": "code",
   "execution_count": 3,
   "id": "7c41caa2",
   "metadata": {},
   "outputs": [
    {
     "data": {
      "text/html": [
       "<div>\n",
       "<style scoped>\n",
       "    .dataframe tbody tr th:only-of-type {\n",
       "        vertical-align: middle;\n",
       "    }\n",
       "\n",
       "    .dataframe tbody tr th {\n",
       "        vertical-align: top;\n",
       "    }\n",
       "\n",
       "    .dataframe thead th {\n",
       "        text-align: right;\n",
       "    }\n",
       "</style>\n",
       "<table border=\"1\" class=\"dataframe\">\n",
       "  <thead>\n",
       "    <tr style=\"text-align: right;\">\n",
       "      <th></th>\n",
       "      <th>Order_ID</th>\n",
       "      <th>TAKEAWAY/SEATING/PICKUP</th>\n",
       "      <th>DATE</th>\n",
       "      <th>DAY</th>\n",
       "      <th>TIME</th>\n",
       "      <th>SERVER</th>\n",
       "      <th>ITEM</th>\n",
       "      <th>QUANTITY</th>\n",
       "      <th>PRICE</th>\n",
       "      <th>TOTAL</th>\n",
       "      <th>ALLERGIES</th>\n",
       "      <th>FOOD TYPE</th>\n",
       "      <th>WEEK NUMBER</th>\n",
       "    </tr>\n",
       "  </thead>\n",
       "  <tbody>\n",
       "    <tr>\n",
       "      <th>0</th>\n",
       "      <td>139017</td>\n",
       "      <td>SEAT</td>\n",
       "      <td>19/06/2020</td>\n",
       "      <td>FRIDAY</td>\n",
       "      <td>4:02 PM</td>\n",
       "      <td>JILLIAN N.</td>\n",
       "      <td>FISH &amp; CHIPS 2 PIECE</td>\n",
       "      <td>1</td>\n",
       "      <td>22</td>\n",
       "      <td>22</td>\n",
       "      <td>NO</td>\n",
       "      <td>ENTR?</td>\n",
       "      <td>WEEK 1</td>\n",
       "    </tr>\n",
       "    <tr>\n",
       "      <th>1</th>\n",
       "      <td>138938</td>\n",
       "      <td>SEAT</td>\n",
       "      <td>19/06/2020</td>\n",
       "      <td>FRIDAY</td>\n",
       "      <td>11:29 AM</td>\n",
       "      <td>ASHLEY C.</td>\n",
       "      <td>FAST FARE BREAKFAST</td>\n",
       "      <td>1</td>\n",
       "      <td>10</td>\n",
       "      <td>10</td>\n",
       "      <td>NO</td>\n",
       "      <td>BREAKFAST</td>\n",
       "      <td>WEEK 1</td>\n",
       "    </tr>\n",
       "    <tr>\n",
       "      <th>2</th>\n",
       "      <td>138938</td>\n",
       "      <td>SEAT</td>\n",
       "      <td>19/06/2020</td>\n",
       "      <td>FRIDAY</td>\n",
       "      <td>11:29 AM</td>\n",
       "      <td>ASHLEY C.</td>\n",
       "      <td>CHIC COBB SALAD SMALL</td>\n",
       "      <td>1</td>\n",
       "      <td>14</td>\n",
       "      <td>14</td>\n",
       "      <td>NO</td>\n",
       "      <td>SALAD</td>\n",
       "      <td>WEEK 1</td>\n",
       "    </tr>\n",
       "    <tr>\n",
       "      <th>3</th>\n",
       "      <td>138938</td>\n",
       "      <td>SEAT</td>\n",
       "      <td>19/06/2020</td>\n",
       "      <td>FRIDAY</td>\n",
       "      <td>11:29 AM</td>\n",
       "      <td>ASHLEY C.</td>\n",
       "      <td>THAI PRAWN SALAD LARGE</td>\n",
       "      <td>1</td>\n",
       "      <td>18</td>\n",
       "      <td>18</td>\n",
       "      <td>NO</td>\n",
       "      <td>SALAD</td>\n",
       "      <td>WEEK 1</td>\n",
       "    </tr>\n",
       "    <tr>\n",
       "      <th>4</th>\n",
       "      <td>138908</td>\n",
       "      <td>TAKEAWAY</td>\n",
       "      <td>19/06/2020</td>\n",
       "      <td>FRIDAY</td>\n",
       "      <td>9:46 AM</td>\n",
       "      <td>ASHLEY C.</td>\n",
       "      <td>FAST FARE BREAKFAST</td>\n",
       "      <td>1</td>\n",
       "      <td>10</td>\n",
       "      <td>10</td>\n",
       "      <td>NO</td>\n",
       "      <td>BREAKFAST</td>\n",
       "      <td>WEEK 1</td>\n",
       "    </tr>\n",
       "  </tbody>\n",
       "</table>\n",
       "</div>"
      ],
      "text/plain": [
       "   Order_ID TAKEAWAY/SEATING/PICKUP        DATE     DAY      TIME      SERVER  \\\n",
       "0    139017                    SEAT  19/06/2020  FRIDAY   4:02 PM  JILLIAN N.   \n",
       "1    138938                    SEAT  19/06/2020  FRIDAY  11:29 AM   ASHLEY C.   \n",
       "2    138938                    SEAT  19/06/2020  FRIDAY  11:29 AM   ASHLEY C.   \n",
       "3    138938                    SEAT  19/06/2020  FRIDAY  11:29 AM   ASHLEY C.   \n",
       "4    138908                TAKEAWAY  19/06/2020  FRIDAY   9:46 AM   ASHLEY C.   \n",
       "\n",
       "                     ITEM  QUANTITY  PRICE  TOTAL ALLERGIES  FOOD TYPE  \\\n",
       "0    FISH & CHIPS 2 PIECE         1     22     22        NO      ENTR?   \n",
       "1     FAST FARE BREAKFAST         1     10     10        NO  BREAKFAST   \n",
       "2   CHIC COBB SALAD SMALL         1     14     14        NO      SALAD   \n",
       "3  THAI PRAWN SALAD LARGE         1     18     18        NO      SALAD   \n",
       "4     FAST FARE BREAKFAST         1     10     10        NO  BREAKFAST   \n",
       "\n",
       "  WEEK NUMBER  \n",
       "0      WEEK 1  \n",
       "1      WEEK 1  \n",
       "2      WEEK 1  \n",
       "3      WEEK 1  \n",
       "4      WEEK 1  "
      ]
     },
     "execution_count": 3,
     "metadata": {},
     "output_type": "execute_result"
    }
   ],
   "source": [
    "# show the head of this dataset\n",
    "order.head()"
   ]
  },
  {
   "cell_type": "code",
   "execution_count": 4,
   "id": "f6bfbcc5",
   "metadata": {},
   "outputs": [
    {
     "data": {
      "text/plain": [
       "(1540, 13)"
      ]
     },
     "execution_count": 4,
     "metadata": {},
     "output_type": "execute_result"
    }
   ],
   "source": [
    "# check the rows and columns / shape of the dataset\n",
    "order.shape"
   ]
  },
  {
   "cell_type": "code",
   "execution_count": 5,
   "id": "0b2bd2b6",
   "metadata": {},
   "outputs": [
    {
     "data": {
      "text/plain": [
       "Order_ID                    int64\n",
       "TAKEAWAY/SEATING/PICKUP    object\n",
       "DATE                       object\n",
       "DAY                        object\n",
       "TIME                       object\n",
       "SERVER                     object\n",
       "ITEM                       object\n",
       "QUANTITY                    int64\n",
       "PRICE                       int64\n",
       "TOTAL                       int64\n",
       "ALLERGIES                  object\n",
       "FOOD TYPE                  object\n",
       "WEEK NUMBER                object\n",
       "dtype: object"
      ]
     },
     "execution_count": 5,
     "metadata": {},
     "output_type": "execute_result"
    }
   ],
   "source": [
    "#check the types of each variable\n",
    "order.dtypes"
   ]
  },
  {
   "cell_type": "code",
   "execution_count": 6,
   "id": "ca7b4bb7",
   "metadata": {},
   "outputs": [
    {
     "data": {
      "text/html": [
       "<div>\n",
       "<style scoped>\n",
       "    .dataframe tbody tr th:only-of-type {\n",
       "        vertical-align: middle;\n",
       "    }\n",
       "\n",
       "    .dataframe tbody tr th {\n",
       "        vertical-align: top;\n",
       "    }\n",
       "\n",
       "    .dataframe thead th {\n",
       "        text-align: right;\n",
       "    }\n",
       "</style>\n",
       "<table border=\"1\" class=\"dataframe\">\n",
       "  <thead>\n",
       "    <tr style=\"text-align: right;\">\n",
       "      <th></th>\n",
       "      <th>DataType</th>\n",
       "    </tr>\n",
       "  </thead>\n",
       "  <tbody>\n",
       "    <tr>\n",
       "      <th>Order_ID</th>\n",
       "      <td>int64</td>\n",
       "    </tr>\n",
       "    <tr>\n",
       "      <th>TAKEAWAY/SEATING/PICKUP</th>\n",
       "      <td>object</td>\n",
       "    </tr>\n",
       "    <tr>\n",
       "      <th>DATE</th>\n",
       "      <td>object</td>\n",
       "    </tr>\n",
       "    <tr>\n",
       "      <th>DAY</th>\n",
       "      <td>object</td>\n",
       "    </tr>\n",
       "    <tr>\n",
       "      <th>TIME</th>\n",
       "      <td>object</td>\n",
       "    </tr>\n",
       "    <tr>\n",
       "      <th>SERVER</th>\n",
       "      <td>object</td>\n",
       "    </tr>\n",
       "    <tr>\n",
       "      <th>ITEM</th>\n",
       "      <td>object</td>\n",
       "    </tr>\n",
       "    <tr>\n",
       "      <th>QUANTITY</th>\n",
       "      <td>int64</td>\n",
       "    </tr>\n",
       "    <tr>\n",
       "      <th>PRICE</th>\n",
       "      <td>int64</td>\n",
       "    </tr>\n",
       "    <tr>\n",
       "      <th>TOTAL</th>\n",
       "      <td>int64</td>\n",
       "    </tr>\n",
       "    <tr>\n",
       "      <th>ALLERGIES</th>\n",
       "      <td>object</td>\n",
       "    </tr>\n",
       "    <tr>\n",
       "      <th>FOOD TYPE</th>\n",
       "      <td>object</td>\n",
       "    </tr>\n",
       "    <tr>\n",
       "      <th>WEEK NUMBER</th>\n",
       "      <td>object</td>\n",
       "    </tr>\n",
       "  </tbody>\n",
       "</table>\n",
       "</div>"
      ],
      "text/plain": [
       "                        DataType\n",
       "Order_ID                   int64\n",
       "TAKEAWAY/SEATING/PICKUP   object\n",
       "DATE                      object\n",
       "DAY                       object\n",
       "TIME                      object\n",
       "SERVER                    object\n",
       "ITEM                      object\n",
       "QUANTITY                   int64\n",
       "PRICE                      int64\n",
       "TOTAL                      int64\n",
       "ALLERGIES                 object\n",
       "FOOD TYPE                 object\n",
       "WEEK NUMBER               object"
      ]
     },
     "execution_count": 6,
     "metadata": {},
     "output_type": "execute_result"
    }
   ],
   "source": [
    "# check the rows and columns of the dataset in dataframe format\n",
    "pd.DataFrame(order.dtypes, columns=['DataType'])"
   ]
  },
  {
   "cell_type": "code",
   "execution_count": 7,
   "id": "f2ab34d5",
   "metadata": {},
   "outputs": [
    {
     "data": {
      "text/plain": [
       "Order_ID                   0\n",
       "TAKEAWAY/SEATING/PICKUP    0\n",
       "DATE                       0\n",
       "DAY                        0\n",
       "TIME                       0\n",
       "SERVER                     0\n",
       "ITEM                       0\n",
       "QUANTITY                   0\n",
       "PRICE                      0\n",
       "TOTAL                      0\n",
       "ALLERGIES                  0\n",
       "FOOD TYPE                  0\n",
       "WEEK NUMBER                0\n",
       "dtype: int64"
      ]
     },
     "execution_count": 7,
     "metadata": {},
     "output_type": "execute_result"
    }
   ],
   "source": [
    "#check if there's null values in the dataset\n",
    "order.isnull().sum()"
   ]
  },
  {
   "cell_type": "code",
   "execution_count": 8,
   "id": "e3c02c9d",
   "metadata": {},
   "outputs": [
    {
     "data": {
      "text/html": [
       "<div>\n",
       "<style scoped>\n",
       "    .dataframe tbody tr th:only-of-type {\n",
       "        vertical-align: middle;\n",
       "    }\n",
       "\n",
       "    .dataframe tbody tr th {\n",
       "        vertical-align: top;\n",
       "    }\n",
       "\n",
       "    .dataframe thead th {\n",
       "        text-align: right;\n",
       "    }\n",
       "</style>\n",
       "<table border=\"1\" class=\"dataframe\">\n",
       "  <thead>\n",
       "    <tr style=\"text-align: right;\">\n",
       "      <th></th>\n",
       "      <th>QUANTITY</th>\n",
       "      <th>PRICE</th>\n",
       "      <th>TOTAL</th>\n",
       "    </tr>\n",
       "  </thead>\n",
       "  <tbody>\n",
       "    <tr>\n",
       "      <th>count</th>\n",
       "      <td>1540.000000</td>\n",
       "      <td>1540.000000</td>\n",
       "      <td>1540.000000</td>\n",
       "    </tr>\n",
       "    <tr>\n",
       "      <th>mean</th>\n",
       "      <td>1.181169</td>\n",
       "      <td>12.688312</td>\n",
       "      <td>14.751299</td>\n",
       "    </tr>\n",
       "    <tr>\n",
       "      <th>std</th>\n",
       "      <td>0.473093</td>\n",
       "      <td>5.490756</td>\n",
       "      <td>8.546998</td>\n",
       "    </tr>\n",
       "    <tr>\n",
       "      <th>min</th>\n",
       "      <td>1.000000</td>\n",
       "      <td>1.000000</td>\n",
       "      <td>1.000000</td>\n",
       "    </tr>\n",
       "    <tr>\n",
       "      <th>25%</th>\n",
       "      <td>1.000000</td>\n",
       "      <td>10.000000</td>\n",
       "      <td>10.000000</td>\n",
       "    </tr>\n",
       "    <tr>\n",
       "      <th>50%</th>\n",
       "      <td>1.000000</td>\n",
       "      <td>14.000000</td>\n",
       "      <td>14.000000</td>\n",
       "    </tr>\n",
       "    <tr>\n",
       "      <th>75%</th>\n",
       "      <td>1.000000</td>\n",
       "      <td>15.000000</td>\n",
       "      <td>18.000000</td>\n",
       "    </tr>\n",
       "    <tr>\n",
       "      <th>max</th>\n",
       "      <td>4.000000</td>\n",
       "      <td>30.000000</td>\n",
       "      <td>75.000000</td>\n",
       "    </tr>\n",
       "  </tbody>\n",
       "</table>\n",
       "</div>"
      ],
      "text/plain": [
       "          QUANTITY        PRICE        TOTAL\n",
       "count  1540.000000  1540.000000  1540.000000\n",
       "mean      1.181169    12.688312    14.751299\n",
       "std       0.473093     5.490756     8.546998\n",
       "min       1.000000     1.000000     1.000000\n",
       "25%       1.000000    10.000000    10.000000\n",
       "50%       1.000000    14.000000    14.000000\n",
       "75%       1.000000    15.000000    18.000000\n",
       "max       4.000000    30.000000    75.000000"
      ]
     },
     "execution_count": 8,
     "metadata": {},
     "output_type": "execute_result"
    }
   ],
   "source": [
    "# show the Descriptive statistics\n",
    "order[['QUANTITY','PRICE','TOTAL']].describe()"
   ]
  },
  {
   "cell_type": "code",
   "execution_count": 9,
   "id": "7db3bf77",
   "metadata": {},
   "outputs": [
    {
     "name": "stdout",
     "output_type": "stream",
     "text": [
      "The maximum total order amount is 75\n",
      "The most expensive food price is 30\n"
     ]
    }
   ],
   "source": [
    "# statement\n",
    "print(\"The maximum total order amount is\", order['TOTAL'].max())\n",
    "print(\"The most expensive food price is\", order['PRICE'].max())"
   ]
  },
  {
   "cell_type": "code",
   "execution_count": 10,
   "id": "1de9caed",
   "metadata": {},
   "outputs": [],
   "source": [
    "#Rename column name for TAKEWAWAY/SEATING/PICKUP\n",
    "order.rename(columns={'TAKEAWAY/SEATING/PICKUP':'DINING METHOD'},inplace=True)"
   ]
  },
  {
   "cell_type": "code",
   "execution_count": 11,
   "id": "59bc73df",
   "metadata": {},
   "outputs": [
    {
     "data": {
      "text/html": [
       "<div>\n",
       "<style scoped>\n",
       "    .dataframe tbody tr th:only-of-type {\n",
       "        vertical-align: middle;\n",
       "    }\n",
       "\n",
       "    .dataframe tbody tr th {\n",
       "        vertical-align: top;\n",
       "    }\n",
       "\n",
       "    .dataframe thead th {\n",
       "        text-align: right;\n",
       "    }\n",
       "</style>\n",
       "<table border=\"1\" class=\"dataframe\">\n",
       "  <thead>\n",
       "    <tr style=\"text-align: right;\">\n",
       "      <th></th>\n",
       "      <th>Order_ID</th>\n",
       "      <th>DINING METHOD</th>\n",
       "      <th>DATE</th>\n",
       "      <th>DAY</th>\n",
       "      <th>TIME</th>\n",
       "      <th>SERVER</th>\n",
       "      <th>ITEM</th>\n",
       "      <th>QUANTITY</th>\n",
       "      <th>PRICE</th>\n",
       "      <th>TOTAL</th>\n",
       "      <th>ALLERGIES</th>\n",
       "      <th>FOOD TYPE</th>\n",
       "      <th>WEEK NUMBER</th>\n",
       "    </tr>\n",
       "  </thead>\n",
       "  <tbody>\n",
       "    <tr>\n",
       "      <th>0</th>\n",
       "      <td>139017</td>\n",
       "      <td>SEAT</td>\n",
       "      <td>19/06/2020</td>\n",
       "      <td>FRIDAY</td>\n",
       "      <td>4:02 PM</td>\n",
       "      <td>JILLIAN N.</td>\n",
       "      <td>FISH &amp; CHIPS 2 PIECE</td>\n",
       "      <td>1</td>\n",
       "      <td>22</td>\n",
       "      <td>22</td>\n",
       "      <td>NO</td>\n",
       "      <td>ENTR?</td>\n",
       "      <td>WEEK 1</td>\n",
       "    </tr>\n",
       "    <tr>\n",
       "      <th>1</th>\n",
       "      <td>138938</td>\n",
       "      <td>SEAT</td>\n",
       "      <td>19/06/2020</td>\n",
       "      <td>FRIDAY</td>\n",
       "      <td>11:29 AM</td>\n",
       "      <td>ASHLEY C.</td>\n",
       "      <td>FAST FARE BREAKFAST</td>\n",
       "      <td>1</td>\n",
       "      <td>10</td>\n",
       "      <td>10</td>\n",
       "      <td>NO</td>\n",
       "      <td>BREAKFAST</td>\n",
       "      <td>WEEK 1</td>\n",
       "    </tr>\n",
       "    <tr>\n",
       "      <th>2</th>\n",
       "      <td>138938</td>\n",
       "      <td>SEAT</td>\n",
       "      <td>19/06/2020</td>\n",
       "      <td>FRIDAY</td>\n",
       "      <td>11:29 AM</td>\n",
       "      <td>ASHLEY C.</td>\n",
       "      <td>CHIC COBB SALAD SMALL</td>\n",
       "      <td>1</td>\n",
       "      <td>14</td>\n",
       "      <td>14</td>\n",
       "      <td>NO</td>\n",
       "      <td>SALAD</td>\n",
       "      <td>WEEK 1</td>\n",
       "    </tr>\n",
       "    <tr>\n",
       "      <th>3</th>\n",
       "      <td>138938</td>\n",
       "      <td>SEAT</td>\n",
       "      <td>19/06/2020</td>\n",
       "      <td>FRIDAY</td>\n",
       "      <td>11:29 AM</td>\n",
       "      <td>ASHLEY C.</td>\n",
       "      <td>THAI PRAWN SALAD LARGE</td>\n",
       "      <td>1</td>\n",
       "      <td>18</td>\n",
       "      <td>18</td>\n",
       "      <td>NO</td>\n",
       "      <td>SALAD</td>\n",
       "      <td>WEEK 1</td>\n",
       "    </tr>\n",
       "    <tr>\n",
       "      <th>4</th>\n",
       "      <td>138908</td>\n",
       "      <td>TAKEAWAY</td>\n",
       "      <td>19/06/2020</td>\n",
       "      <td>FRIDAY</td>\n",
       "      <td>9:46 AM</td>\n",
       "      <td>ASHLEY C.</td>\n",
       "      <td>FAST FARE BREAKFAST</td>\n",
       "      <td>1</td>\n",
       "      <td>10</td>\n",
       "      <td>10</td>\n",
       "      <td>NO</td>\n",
       "      <td>BREAKFAST</td>\n",
       "      <td>WEEK 1</td>\n",
       "    </tr>\n",
       "  </tbody>\n",
       "</table>\n",
       "</div>"
      ],
      "text/plain": [
       "   Order_ID DINING METHOD        DATE     DAY      TIME      SERVER  \\\n",
       "0    139017          SEAT  19/06/2020  FRIDAY   4:02 PM  JILLIAN N.   \n",
       "1    138938          SEAT  19/06/2020  FRIDAY  11:29 AM   ASHLEY C.   \n",
       "2    138938          SEAT  19/06/2020  FRIDAY  11:29 AM   ASHLEY C.   \n",
       "3    138938          SEAT  19/06/2020  FRIDAY  11:29 AM   ASHLEY C.   \n",
       "4    138908      TAKEAWAY  19/06/2020  FRIDAY   9:46 AM   ASHLEY C.   \n",
       "\n",
       "                     ITEM  QUANTITY  PRICE  TOTAL ALLERGIES  FOOD TYPE  \\\n",
       "0    FISH & CHIPS 2 PIECE         1     22     22        NO      ENTR?   \n",
       "1     FAST FARE BREAKFAST         1     10     10        NO  BREAKFAST   \n",
       "2   CHIC COBB SALAD SMALL         1     14     14        NO      SALAD   \n",
       "3  THAI PRAWN SALAD LARGE         1     18     18        NO      SALAD   \n",
       "4     FAST FARE BREAKFAST         1     10     10        NO  BREAKFAST   \n",
       "\n",
       "  WEEK NUMBER  \n",
       "0      WEEK 1  \n",
       "1      WEEK 1  \n",
       "2      WEEK 1  \n",
       "3      WEEK 1  \n",
       "4      WEEK 1  "
      ]
     },
     "execution_count": 11,
     "metadata": {},
     "output_type": "execute_result"
    }
   ],
   "source": [
    "#show new dataframe\n",
    "order.head()"
   ]
  },
  {
   "cell_type": "code",
   "execution_count": 12,
   "id": "1bbecc08",
   "metadata": {},
   "outputs": [
    {
     "data": {
      "text/plain": [
       "0           ENTR?\n",
       "1       BREAKFAST\n",
       "2           SALAD\n",
       "3           SALAD\n",
       "4       BREAKFAST\n",
       "          ...    \n",
       "1535     STARTERS\n",
       "1536     STARTERS\n",
       "1537     STARTERS\n",
       "1538     STARTERS\n",
       "1539     STARTERS\n",
       "Name: FOOD TYPE, Length: 1540, dtype: object"
      ]
     },
     "execution_count": 12,
     "metadata": {},
     "output_type": "execute_result"
    }
   ],
   "source": [
    "# Show the food type\n",
    "order['FOOD TYPE']"
   ]
  },
  {
   "cell_type": "code",
   "execution_count": 13,
   "id": "f466ccf7",
   "metadata": {},
   "outputs": [
    {
     "data": {
      "text/plain": [
       "BREAKFAST               402\n",
       "STARTERS                272\n",
       "SANDWHICHES             240\n",
       "SIDE / ADD ON           134\n",
       "RICE BOWLS AND PASTA    123\n",
       "SALAD                   120\n",
       "SOUP                     80\n",
       "ENTR?                    71\n",
       "JUNIOR MENU              38\n",
       "DESSERTS                 24\n",
       "PIZZA                    21\n",
       "SPECIALS                 15\n",
       "Name: FOOD TYPE, dtype: int64"
      ]
     },
     "execution_count": 13,
     "metadata": {},
     "output_type": "execute_result"
    }
   ],
   "source": [
    "#show the sum of each food type\n",
    "order['FOOD TYPE'].value_counts()"
   ]
  },
  {
   "cell_type": "code",
   "execution_count": 14,
   "id": "da55a730",
   "metadata": {},
   "outputs": [
    {
     "data": {
      "text/plain": [
       "0          ENTREE\n",
       "1       BREAKFAST\n",
       "2           SALAD\n",
       "3           SALAD\n",
       "4       BREAKFAST\n",
       "          ...    \n",
       "1535     STARTERS\n",
       "1536     STARTERS\n",
       "1537     STARTERS\n",
       "1538     STARTERS\n",
       "1539     STARTERS\n",
       "Name: FOOD TYPE, Length: 1540, dtype: object"
      ]
     },
     "execution_count": 14,
     "metadata": {},
     "output_type": "execute_result"
    }
   ],
   "source": [
    "# change the element ENTR? to ENTREE\n",
    "order['FOOD TYPE'] = order['FOOD TYPE'].replace(['ENTR?'],'ENTREE')\n",
    "order['FOOD TYPE']"
   ]
  },
  {
   "cell_type": "code",
   "execution_count": 15,
   "id": "8b580b8a",
   "metadata": {},
   "outputs": [
    {
     "data": {
      "image/png": "[encoded data removed]",
      "text/plain": [
       "<Figure size 432x288 with 1 Axes>"
      ]
     },
     "metadata": {
      "needs_background": "light"
     },
     "output_type": "display_data"
    }
   ],
   "source": [
    "#show the visualization for food type\n",
    "order['FOOD TYPE'].value_counts().sort_index().plot(kind='bar');"
   ]
  },
  {
   "cell_type": "code",
   "execution_count": 16,
   "id": "d892911b",
   "metadata": {},
   "outputs": [
    {
     "data": {
      "text/plain": [
       "array(['ENTREE', 'BREAKFAST', 'SALAD', 'STARTERS', 'PIZZA',\n",
       "       'RICE BOWLS AND PASTA', 'SANDWHICHES', 'SOUP', 'SIDE / ADD ON',\n",
       "       'JUNIOR MENU', 'SPECIALS', 'DESSERTS'], dtype=object)"
      ]
     },
     "execution_count": 16,
     "metadata": {},
     "output_type": "execute_result"
    }
   ],
   "source": [
    "order['FOOD TYPE'].unique()"
   ]
  },
  {
   "cell_type": "code",
   "execution_count": 17,
   "id": "66705238",
   "metadata": {},
   "outputs": [
    {
     "data": {
      "text/plain": [
       "12"
      ]
     },
     "execution_count": 17,
     "metadata": {},
     "output_type": "execute_result"
    }
   ],
   "source": [
    "order['FOOD TYPE'].nunique()"
   ]
  },
  {
   "cell_type": "code",
   "execution_count": 18,
   "id": "30f87490",
   "metadata": {},
   "outputs": [
    {
     "data": {
      "text/plain": [
       "Text(0, 0.5, 'Number of Price')"
      ]
     },
     "execution_count": 18,
     "metadata": {},
     "output_type": "execute_result"
    },
    {
     "data": {
      "image/png": "[encoded data removed]",
      "text/plain": [
       "<Figure size 432x288 with 1 Axes>"
      ]
     },
     "metadata": {
      "needs_background": "light"
     },
     "output_type": "display_data"
    }
   ],
   "source": [
    "#show the visualization for PRICE\n",
    "order['PRICE'].value_counts().sort_index().plot(kind='line');\n",
    "plt.xlabel('Price')\n",
    "plt.ylabel('Number of Price')"
   ]
  },
  {
   "cell_type": "code",
   "execution_count": 19,
   "id": "0a7e59c5",
   "metadata": {},
   "outputs": [
    {
     "data": {
      "text/plain": [
       "array([[<AxesSubplot:title={'center':'Order_ID'}>,\n",
       "        <AxesSubplot:title={'center':'QUANTITY'}>],\n",
       "       [<AxesSubplot:title={'center':'PRICE'}>,\n",
       "        <AxesSubplot:title={'center':'TOTAL'}>]], dtype=object)"
      ]
     },
     "execution_count": 19,
     "metadata": {},
     "output_type": "execute_result"
    },
    {
     "data": {
      "image/png": "[encoded data removed]",
      "text/plain": [
       "<Figure size 1152x576 with 4 Axes>"
      ]
     },
     "metadata": {
      "needs_background": "light"
     },
     "output_type": "display_data"
    }
   ],
   "source": [
    "#make histogram of entire dataframe\n",
    "order.hist(figsize=(16,8))"
   ]
  },
  {
   "cell_type": "code",
   "execution_count": 20,
   "id": "b02a3b1c",
   "metadata": {},
   "outputs": [],
   "source": [
    "#Changing the display for dining method\n",
    "def dining_method(method): \n",
    "    method_dict = {\n",
    "        'TAKEAWAY': 'T',\n",
    "        'SEAT': 'S',\n",
    "        'PICKUP': 'P',\n",
    "    }\n",
    "    \n",
    "    try:\n",
    "        return method_dict[method]\n",
    "    except:\n",
    "        return 'N/A'"
   ]
  },
  {
   "cell_type": "code",
   "execution_count": 21,
   "id": "37fa4392",
   "metadata": {},
   "outputs": [],
   "source": [
    "order['DINING METHOD'] = order['DINING METHOD'].apply(dining_method)"
   ]
  },
  {
   "cell_type": "code",
   "execution_count": 22,
   "id": "23070687",
   "metadata": {},
   "outputs": [
    {
     "data": {
      "text/plain": [
       "0       S\n",
       "1       S\n",
       "2       S\n",
       "3       S\n",
       "4       T\n",
       "       ..\n",
       "1535    S\n",
       "1536    S\n",
       "1537    T\n",
       "1538    T\n",
       "1539    S\n",
       "Name: DINING METHOD, Length: 1540, dtype: object"
      ]
     },
     "execution_count": 22,
     "metadata": {},
     "output_type": "execute_result"
    }
   ],
   "source": [
    "order['DINING METHOD']"
   ]
  },
  {
   "cell_type": "code",
   "execution_count": 23,
   "id": "91e41b42",
   "metadata": {},
   "outputs": [
    {
     "data": {
      "text/html": [
       "<div>\n",
       "<style scoped>\n",
       "    .dataframe tbody tr th:only-of-type {\n",
       "        vertical-align: middle;\n",
       "    }\n",
       "\n",
       "    .dataframe tbody tr th {\n",
       "        vertical-align: top;\n",
       "    }\n",
       "\n",
       "    .dataframe thead th {\n",
       "        text-align: right;\n",
       "    }\n",
       "</style>\n",
       "<table border=\"1\" class=\"dataframe\">\n",
       "  <thead>\n",
       "    <tr style=\"text-align: right;\">\n",
       "      <th></th>\n",
       "      <th>Order_ID</th>\n",
       "      <th>DINING METHOD</th>\n",
       "      <th>DATE</th>\n",
       "      <th>DAY</th>\n",
       "      <th>TIME</th>\n",
       "      <th>SERVER</th>\n",
       "      <th>ITEM</th>\n",
       "      <th>QUANTITY</th>\n",
       "      <th>PRICE</th>\n",
       "      <th>TOTAL</th>\n",
       "      <th>ALLERGIES</th>\n",
       "      <th>FOOD TYPE</th>\n",
       "      <th>WEEK NUMBER</th>\n",
       "    </tr>\n",
       "  </thead>\n",
       "  <tbody>\n",
       "    <tr>\n",
       "      <th>0</th>\n",
       "      <td>139017</td>\n",
       "      <td>S</td>\n",
       "      <td>19/06/2020</td>\n",
       "      <td>FRIDAY</td>\n",
       "      <td>4:02 PM</td>\n",
       "      <td>JILLIAN N.</td>\n",
       "      <td>FISH &amp; CHIPS 2 PIECE</td>\n",
       "      <td>1</td>\n",
       "      <td>22</td>\n",
       "      <td>22</td>\n",
       "      <td>NO</td>\n",
       "      <td>ENTREE</td>\n",
       "      <td>WEEK 1</td>\n",
       "    </tr>\n",
       "    <tr>\n",
       "      <th>1</th>\n",
       "      <td>138938</td>\n",
       "      <td>S</td>\n",
       "      <td>19/06/2020</td>\n",
       "      <td>FRIDAY</td>\n",
       "      <td>11:29 AM</td>\n",
       "      <td>ASHLEY C.</td>\n",
       "      <td>FAST FARE BREAKFAST</td>\n",
       "      <td>1</td>\n",
       "      <td>10</td>\n",
       "      <td>10</td>\n",
       "      <td>NO</td>\n",
       "      <td>BREAKFAST</td>\n",
       "      <td>WEEK 1</td>\n",
       "    </tr>\n",
       "    <tr>\n",
       "      <th>2</th>\n",
       "      <td>138938</td>\n",
       "      <td>S</td>\n",
       "      <td>19/06/2020</td>\n",
       "      <td>FRIDAY</td>\n",
       "      <td>11:29 AM</td>\n",
       "      <td>ASHLEY C.</td>\n",
       "      <td>CHIC COBB SALAD SMALL</td>\n",
       "      <td>1</td>\n",
       "      <td>14</td>\n",
       "      <td>14</td>\n",
       "      <td>NO</td>\n",
       "      <td>SALAD</td>\n",
       "      <td>WEEK 1</td>\n",
       "    </tr>\n",
       "    <tr>\n",
       "      <th>3</th>\n",
       "      <td>138938</td>\n",
       "      <td>S</td>\n",
       "      <td>19/06/2020</td>\n",
       "      <td>FRIDAY</td>\n",
       "      <td>11:29 AM</td>\n",
       "      <td>ASHLEY C.</td>\n",
       "      <td>THAI PRAWN SALAD LARGE</td>\n",
       "      <td>1</td>\n",
       "      <td>18</td>\n",
       "      <td>18</td>\n",
       "      <td>NO</td>\n",
       "      <td>SALAD</td>\n",
       "      <td>WEEK 1</td>\n",
       "    </tr>\n",
       "    <tr>\n",
       "      <th>4</th>\n",
       "      <td>138908</td>\n",
       "      <td>T</td>\n",
       "      <td>19/06/2020</td>\n",
       "      <td>FRIDAY</td>\n",
       "      <td>9:46 AM</td>\n",
       "      <td>ASHLEY C.</td>\n",
       "      <td>FAST FARE BREAKFAST</td>\n",
       "      <td>1</td>\n",
       "      <td>10</td>\n",
       "      <td>10</td>\n",
       "      <td>NO</td>\n",
       "      <td>BREAKFAST</td>\n",
       "      <td>WEEK 1</td>\n",
       "    </tr>\n",
       "  </tbody>\n",
       "</table>\n",
       "</div>"
      ],
      "text/plain": [
       "   Order_ID DINING METHOD        DATE     DAY      TIME      SERVER  \\\n",
       "0    139017             S  19/06/2020  FRIDAY   4:02 PM  JILLIAN N.   \n",
       "1    138938             S  19/06/2020  FRIDAY  11:29 AM   ASHLEY C.   \n",
       "2    138938             S  19/06/2020  FRIDAY  11:29 AM   ASHLEY C.   \n",
       "3    138938             S  19/06/2020  FRIDAY  11:29 AM   ASHLEY C.   \n",
       "4    138908             T  19/06/2020  FRIDAY   9:46 AM   ASHLEY C.   \n",
       "\n",
       "                     ITEM  QUANTITY  PRICE  TOTAL ALLERGIES  FOOD TYPE  \\\n",
       "0    FISH & CHIPS 2 PIECE         1     22     22        NO     ENTREE   \n",
       "1     FAST FARE BREAKFAST         1     10     10        NO  BREAKFAST   \n",
       "2   CHIC COBB SALAD SMALL         1     14     14        NO      SALAD   \n",
       "3  THAI PRAWN SALAD LARGE         1     18     18        NO      SALAD   \n",
       "4     FAST FARE BREAKFAST         1     10     10        NO  BREAKFAST   \n",
       "\n",
       "  WEEK NUMBER  \n",
       "0      WEEK 1  \n",
       "1      WEEK 1  \n",
       "2      WEEK 1  \n",
       "3      WEEK 1  \n",
       "4      WEEK 1  "
      ]
     },
     "execution_count": 23,
     "metadata": {},
     "output_type": "execute_result"
    }
   ],
   "source": [
    "order.head()"
   ]
  },
  {
   "cell_type": "code",
   "execution_count": 24,
   "id": "5f9b3938",
   "metadata": {},
   "outputs": [
    {
     "data": {
      "text/html": [
       "<div>\n",
       "<style scoped>\n",
       "    .dataframe tbody tr th:only-of-type {\n",
       "        vertical-align: middle;\n",
       "    }\n",
       "\n",
       "    .dataframe tbody tr th {\n",
       "        vertical-align: top;\n",
       "    }\n",
       "\n",
       "    .dataframe thead th {\n",
       "        text-align: right;\n",
       "    }\n",
       "</style>\n",
       "<table border=\"1\" class=\"dataframe\">\n",
       "  <thead>\n",
       "    <tr style=\"text-align: right;\">\n",
       "      <th></th>\n",
       "      <th>Order_ID</th>\n",
       "      <th>QUANTITY</th>\n",
       "      <th>PRICE</th>\n",
       "      <th>TOTAL</th>\n",
       "    </tr>\n",
       "    <tr>\n",
       "      <th>ITEM</th>\n",
       "      <th></th>\n",
       "      <th></th>\n",
       "      <th></th>\n",
       "      <th></th>\n",
       "    </tr>\n",
       "  </thead>\n",
       "  <tbody>\n",
       "    <tr>\n",
       "      <th>FAST FARE BREAKFAST</th>\n",
       "      <td>20208558</td>\n",
       "      <td>175</td>\n",
       "      <td>1420</td>\n",
       "      <td>1750</td>\n",
       "    </tr>\n",
       "  </tbody>\n",
       "</table>\n",
       "</div>"
      ],
      "text/plain": [
       "                     Order_ID  QUANTITY  PRICE  TOTAL\n",
       "ITEM                                                 \n",
       "FAST FARE BREAKFAST  20208558       175   1420   1750"
      ]
     },
     "execution_count": 24,
     "metadata": {},
     "output_type": "execute_result"
    }
   ],
   "source": [
    "# show the most ordered item\n",
    "order.groupby('ITEM').sum().sort_values(['QUANTITY'],ascending = False).head(1)"
   ]
  },
  {
   "cell_type": "code",
   "execution_count": 25,
   "id": "e636368b",
   "metadata": {},
   "outputs": [
    {
     "data": {
      "text/html": [
       "<div>\n",
       "<style scoped>\n",
       "    .dataframe tbody tr th:only-of-type {\n",
       "        vertical-align: middle;\n",
       "    }\n",
       "\n",
       "    .dataframe tbody tr th {\n",
       "        vertical-align: top;\n",
       "    }\n",
       "\n",
       "    .dataframe thead th {\n",
       "        text-align: right;\n",
       "    }\n",
       "</style>\n",
       "<table border=\"1\" class=\"dataframe\">\n",
       "  <thead>\n",
       "    <tr style=\"text-align: right;\">\n",
       "      <th></th>\n",
       "      <th>Order_ID</th>\n",
       "      <th>DINING METHOD</th>\n",
       "      <th>DATE</th>\n",
       "      <th>DAY</th>\n",
       "      <th>TIME</th>\n",
       "      <th>SERVER</th>\n",
       "      <th>ITEM</th>\n",
       "      <th>QUANTITY</th>\n",
       "      <th>PRICE</th>\n",
       "      <th>TOTAL</th>\n",
       "      <th>ALLERGIES</th>\n",
       "      <th>FOOD TYPE</th>\n",
       "      <th>WEEK NUMBER</th>\n",
       "    </tr>\n",
       "  </thead>\n",
       "  <tbody>\n",
       "    <tr>\n",
       "      <th>4</th>\n",
       "      <td>138908</td>\n",
       "      <td>T</td>\n",
       "      <td>19/06/2020</td>\n",
       "      <td>FRIDAY</td>\n",
       "      <td>9:46 AM</td>\n",
       "      <td>ASHLEY C.</td>\n",
       "      <td>FAST FARE BREAKFAST</td>\n",
       "      <td>1</td>\n",
       "      <td>10</td>\n",
       "      <td>10</td>\n",
       "      <td>NO</td>\n",
       "      <td>BREAKFAST</td>\n",
       "      <td>WEEK 1</td>\n",
       "    </tr>\n",
       "    <tr>\n",
       "      <th>5</th>\n",
       "      <td>138908</td>\n",
       "      <td>T</td>\n",
       "      <td>19/06/2020</td>\n",
       "      <td>FRIDAY</td>\n",
       "      <td>9:46 AM</td>\n",
       "      <td>ASHLEY C.</td>\n",
       "      <td>EGGS BENEDICT</td>\n",
       "      <td>1</td>\n",
       "      <td>12</td>\n",
       "      <td>12</td>\n",
       "      <td>NO</td>\n",
       "      <td>BREAKFAST</td>\n",
       "      <td>WEEK 1</td>\n",
       "    </tr>\n",
       "    <tr>\n",
       "      <th>25</th>\n",
       "      <td>138918</td>\n",
       "      <td>T</td>\n",
       "      <td>19/06/2020</td>\n",
       "      <td>FRIDAY</td>\n",
       "      <td>10:03 AM</td>\n",
       "      <td>ASHLEY C.</td>\n",
       "      <td>FAST FARE BREAKFAST</td>\n",
       "      <td>1</td>\n",
       "      <td>10</td>\n",
       "      <td>10</td>\n",
       "      <td>NO</td>\n",
       "      <td>BREAKFAST</td>\n",
       "      <td>WEEK 1</td>\n",
       "    </tr>\n",
       "    <tr>\n",
       "      <th>18</th>\n",
       "      <td>138923</td>\n",
       "      <td>T</td>\n",
       "      <td>19/06/2020</td>\n",
       "      <td>FRIDAY</td>\n",
       "      <td>10:24 AM</td>\n",
       "      <td>ASHLEY C.</td>\n",
       "      <td>BREAKFAST TACOS</td>\n",
       "      <td>1</td>\n",
       "      <td>12</td>\n",
       "      <td>12</td>\n",
       "      <td>NO</td>\n",
       "      <td>BREAKFAST</td>\n",
       "      <td>WEEK 1</td>\n",
       "    </tr>\n",
       "    <tr>\n",
       "      <th>23</th>\n",
       "      <td>138933</td>\n",
       "      <td>P</td>\n",
       "      <td>19/06/2020</td>\n",
       "      <td>FRIDAY</td>\n",
       "      <td>11:12 AM</td>\n",
       "      <td>ASHLEY C.</td>\n",
       "      <td>THAI PRAWN SALAD SMALL</td>\n",
       "      <td>1</td>\n",
       "      <td>14</td>\n",
       "      <td>14</td>\n",
       "      <td>YES</td>\n",
       "      <td>SALAD</td>\n",
       "      <td>WEEK 1</td>\n",
       "    </tr>\n",
       "    <tr>\n",
       "      <th>...</th>\n",
       "      <td>...</td>\n",
       "      <td>...</td>\n",
       "      <td>...</td>\n",
       "      <td>...</td>\n",
       "      <td>...</td>\n",
       "      <td>...</td>\n",
       "      <td>...</td>\n",
       "      <td>...</td>\n",
       "      <td>...</td>\n",
       "      <td>...</td>\n",
       "      <td>...</td>\n",
       "      <td>...</td>\n",
       "      <td>...</td>\n",
       "    </tr>\n",
       "    <tr>\n",
       "      <th>1508</th>\n",
       "      <td>146275</td>\n",
       "      <td>S</td>\n",
       "      <td>22/07/2020</td>\n",
       "      <td>WEDNESDAY</td>\n",
       "      <td>2:19 PM</td>\n",
       "      <td>DEB D.</td>\n",
       "      <td>CHIC COBB SALAD LARGE</td>\n",
       "      <td>1</td>\n",
       "      <td>18</td>\n",
       "      <td>18</td>\n",
       "      <td>NO</td>\n",
       "      <td>SALAD</td>\n",
       "      <td>WEEK 5</td>\n",
       "    </tr>\n",
       "    <tr>\n",
       "      <th>1509</th>\n",
       "      <td>146275</td>\n",
       "      <td>S</td>\n",
       "      <td>22/07/2020</td>\n",
       "      <td>WEDNESDAY</td>\n",
       "      <td>2:19 PM</td>\n",
       "      <td>DEB D.</td>\n",
       "      <td>BEEF DIP SANDWHICH</td>\n",
       "      <td>1</td>\n",
       "      <td>15</td>\n",
       "      <td>15</td>\n",
       "      <td>NO</td>\n",
       "      <td>SANDWHICHES</td>\n",
       "      <td>WEEK 5</td>\n",
       "    </tr>\n",
       "    <tr>\n",
       "      <th>1499</th>\n",
       "      <td>146276</td>\n",
       "      <td>S</td>\n",
       "      <td>22/07/2020</td>\n",
       "      <td>WEDNESDAY</td>\n",
       "      <td>2:22 PM</td>\n",
       "      <td>DEB D.</td>\n",
       "      <td>NACHOS SMALL</td>\n",
       "      <td>1</td>\n",
       "      <td>15</td>\n",
       "      <td>15</td>\n",
       "      <td>NO</td>\n",
       "      <td>STARTERS</td>\n",
       "      <td>WEEK 5</td>\n",
       "    </tr>\n",
       "    <tr>\n",
       "      <th>1530</th>\n",
       "      <td>146308</td>\n",
       "      <td>S</td>\n",
       "      <td>22/07/2020</td>\n",
       "      <td>WEDNESDAY</td>\n",
       "      <td>3:22 PM</td>\n",
       "      <td>ASHLEY C.</td>\n",
       "      <td>BEEF DIP SANDWHICH</td>\n",
       "      <td>1</td>\n",
       "      <td>15</td>\n",
       "      <td>15</td>\n",
       "      <td>NO</td>\n",
       "      <td>SANDWHICHES</td>\n",
       "      <td>WEEK 5</td>\n",
       "    </tr>\n",
       "    <tr>\n",
       "      <th>1531</th>\n",
       "      <td>146308</td>\n",
       "      <td>S</td>\n",
       "      <td>22/07/2020</td>\n",
       "      <td>WEDNESDAY</td>\n",
       "      <td>3:22 PM</td>\n",
       "      <td>ASHLEY C.</td>\n",
       "      <td>FISH &amp; CHIPS 1 PIECE</td>\n",
       "      <td>1</td>\n",
       "      <td>14</td>\n",
       "      <td>14</td>\n",
       "      <td>NO</td>\n",
       "      <td>ENTREE</td>\n",
       "      <td>WEEK 5</td>\n",
       "    </tr>\n",
       "  </tbody>\n",
       "</table>\n",
       "<p>1540 rows × 13 columns</p>\n",
       "</div>"
      ],
      "text/plain": [
       "      Order_ID DINING METHOD        DATE        DAY      TIME     SERVER  \\\n",
       "4       138908             T  19/06/2020     FRIDAY   9:46 AM  ASHLEY C.   \n",
       "5       138908             T  19/06/2020     FRIDAY   9:46 AM  ASHLEY C.   \n",
       "25      138918             T  19/06/2020     FRIDAY  10:03 AM  ASHLEY C.   \n",
       "18      138923             T  19/06/2020     FRIDAY  10:24 AM  ASHLEY C.   \n",
       "23      138933             P  19/06/2020     FRIDAY  11:12 AM  ASHLEY C.   \n",
       "...        ...           ...         ...        ...       ...        ...   \n",
       "1508    146275             S  22/07/2020  WEDNESDAY   2:19 PM     DEB D.   \n",
       "1509    146275             S  22/07/2020  WEDNESDAY   2:19 PM     DEB D.   \n",
       "1499    146276             S  22/07/2020  WEDNESDAY   2:22 PM     DEB D.   \n",
       "1530    146308             S  22/07/2020  WEDNESDAY   3:22 PM  ASHLEY C.   \n",
       "1531    146308             S  22/07/2020  WEDNESDAY   3:22 PM  ASHLEY C.   \n",
       "\n",
       "                        ITEM  QUANTITY  PRICE  TOTAL ALLERGIES    FOOD TYPE  \\\n",
       "4        FAST FARE BREAKFAST         1     10     10        NO    BREAKFAST   \n",
       "5              EGGS BENEDICT         1     12     12        NO    BREAKFAST   \n",
       "25       FAST FARE BREAKFAST         1     10     10        NO    BREAKFAST   \n",
       "18           BREAKFAST TACOS         1     12     12        NO    BREAKFAST   \n",
       "23    THAI PRAWN SALAD SMALL         1     14     14       YES        SALAD   \n",
       "...                      ...       ...    ...    ...       ...          ...   \n",
       "1508   CHIC COBB SALAD LARGE         1     18     18        NO        SALAD   \n",
       "1509      BEEF DIP SANDWHICH         1     15     15        NO  SANDWHICHES   \n",
       "1499            NACHOS SMALL         1     15     15        NO     STARTERS   \n",
       "1530      BEEF DIP SANDWHICH         1     15     15        NO  SANDWHICHES   \n",
       "1531    FISH & CHIPS 1 PIECE         1     14     14        NO       ENTREE   \n",
       "\n",
       "     WEEK NUMBER  \n",
       "4         WEEK 1  \n",
       "5         WEEK 1  \n",
       "25        WEEK 1  \n",
       "18        WEEK 1  \n",
       "23        WEEK 1  \n",
       "...          ...  \n",
       "1508      WEEK 5  \n",
       "1509      WEEK 5  \n",
       "1499      WEEK 5  \n",
       "1530      WEEK 5  \n",
       "1531      WEEK 5  \n",
       "\n",
       "[1540 rows x 13 columns]"
      ]
     },
     "execution_count": 25,
     "metadata": {},
     "output_type": "execute_result"
    }
   ],
   "source": [
    "# Sort the data set on the Order_ID column in numerical order.\n",
    "order.sort_values(by='Order_ID',ascending = True)"
   ]
  },
  {
   "cell_type": "code",
   "execution_count": 26,
   "id": "09fa0fc5",
   "metadata": {},
   "outputs": [
    {
     "data": {
      "text/plain": [
       "686"
      ]
     },
     "execution_count": 26,
     "metadata": {},
     "output_type": "execute_result"
    }
   ],
   "source": [
    "# show the total number of order within 5 weeks\n",
    "order['Order_ID'].nunique()"
   ]
  },
  {
   "cell_type": "code",
   "execution_count": 27,
   "id": "0103dcc7",
   "metadata": {},
   "outputs": [
    {
     "data": {
      "text/plain": [
       "105"
      ]
     },
     "execution_count": 27,
     "metadata": {},
     "output_type": "execute_result"
    }
   ],
   "source": [
    "# show the number of item type sold within 5 weeks\n",
    "order['ITEM'].nunique()"
   ]
  },
  {
   "cell_type": "code",
   "execution_count": 28,
   "id": "086ccd59",
   "metadata": {},
   "outputs": [
    {
     "data": {
      "text/html": [
       "<div>\n",
       "<style scoped>\n",
       "    .dataframe tbody tr th:only-of-type {\n",
       "        vertical-align: middle;\n",
       "    }\n",
       "\n",
       "    .dataframe tbody tr th {\n",
       "        vertical-align: top;\n",
       "    }\n",
       "\n",
       "    .dataframe thead th {\n",
       "        text-align: right;\n",
       "    }\n",
       "</style>\n",
       "<table border=\"1\" class=\"dataframe\">\n",
       "  <thead>\n",
       "    <tr style=\"text-align: right;\">\n",
       "      <th></th>\n",
       "      <th>TOTAL</th>\n",
       "    </tr>\n",
       "    <tr>\n",
       "      <th>WEEK NUMBER</th>\n",
       "      <th></th>\n",
       "    </tr>\n",
       "  </thead>\n",
       "  <tbody>\n",
       "    <tr>\n",
       "      <th>WEEK 1</th>\n",
       "      <td>3250</td>\n",
       "    </tr>\n",
       "    <tr>\n",
       "      <th>WEEK 2</th>\n",
       "      <td>4313</td>\n",
       "    </tr>\n",
       "    <tr>\n",
       "      <th>WEEK 3</th>\n",
       "      <td>5541</td>\n",
       "    </tr>\n",
       "    <tr>\n",
       "      <th>WEEK 4</th>\n",
       "      <td>4850</td>\n",
       "    </tr>\n",
       "    <tr>\n",
       "      <th>WEEK 5</th>\n",
       "      <td>4763</td>\n",
       "    </tr>\n",
       "  </tbody>\n",
       "</table>\n",
       "</div>"
      ],
      "text/plain": [
       "             TOTAL\n",
       "WEEK NUMBER       \n",
       "WEEK 1        3250\n",
       "WEEK 2        4313\n",
       "WEEK 3        5541\n",
       "WEEK 4        4850\n",
       "WEEK 5        4763"
      ]
     },
     "execution_count": 28,
     "metadata": {},
     "output_type": "execute_result"
    }
   ],
   "source": [
    "# What are the total sales for each week?\n",
    "order.groupby(by=['WEEK NUMBER'])[['TOTAL']].sum()"
   ]
  },
  {
   "cell_type": "code",
   "execution_count": 29,
   "id": "698280c7",
   "metadata": {},
   "outputs": [
    {
     "data": {
      "text/plain": [
       "5541"
      ]
     },
     "execution_count": 29,
     "metadata": {},
     "output_type": "execute_result"
    }
   ],
   "source": [
    "# show the highest amount of order \n",
    "order.groupby(by=['WEEK NUMBER'])['TOTAL'].sum().max()"
   ]
  },
  {
   "cell_type": "code",
   "execution_count": 30,
   "id": "3ca8ee6a",
   "metadata": {},
   "outputs": [
    {
     "data": {
      "text/plain": [
       "33.11516034985423"
      ]
     },
     "execution_count": 30,
     "metadata": {},
     "output_type": "execute_result"
    }
   ],
   "source": [
    "# calculate average sales per order\n",
    "order['TOTAL'].sum() / order['Order_ID'].nunique()"
   ]
  },
  {
   "cell_type": "code",
   "execution_count": 31,
   "id": "e5047001",
   "metadata": {},
   "outputs": [
    {
     "name": "stdout",
     "output_type": "stream",
     "text": [
      "{139017: 22, 138938: 18, 138908: 12, 138948: 14, 138945: 14, 138986: 17, 139006: 36, 138953: 14, 138943: 20, 138923: 12, 138939: 54, 138935: 8, 138933: 14, 139018: 14, 138918: 10, 139204: 17, 139193: 12, 139176: 3, 139200: 20, 139184: 30, 139126: 10, 139205: 10, 139125: 12, 139127: 10, 139148: 12, 139208: 8, 139158: 10, 139178: 15, 139164: 21, 139202: 14, 139123: 14, 139188: 21, 139151: 20, 139135: 1, 139177: 12, 139139: 2, 139131: 20, 139221: 6, 139214: 15, 139236: 6, 139354: 2, 139335: 1, 139373: 2, 139459: 14, 139340: 12, 139338: 10, 139406: 12, 139343: 12, 139433: 14, 139429: 17, 139446: 15, 139368: 6, 139328: 44, 139382: 12, 139352: 12, 139351: 1, 139414: 10, 139417: 15, 139418: 15, 139341: 20, 139999: 10, 140011: 12, 139996: 10, 140074: 8, 140014: 12, 140071: 20, 140017: 15, 140050: 6, 140075: 14, 140033: 4, 140037: 15, 140028: 18, 139952: 14, 140016: 20, 140008: 21, 140236: 17, 140177: 10, 140194: 17, 140298: 30, 140302: 42, 140216: 28, 140295: 14, 140167: 10, 140219: 45, 140184: 12, 140243: 2, 140210: 18, 140180: 10, 140171: 1, 140310: 14, 140176: 24, 140215: 15, 140166: 2, 140148: 2, 140202: 12, 140207: 17, 140173: 12, 140140: 7, 140178: 2, 140225: 6, 140525: 8, 140479: 15, 140427: 14, 140512: 75, 140508: 10, 140487: 21, 140483: 42, 140510: 15, 140529: 20, 140459: 14, 140544: 36, 140562: 28, 140511: 6, 140557: 14, 140472: 10, 140450: 12, 140546: 15, 140494: 14, 140490: 10, 140458: 18, 140477: 15, 140442: 24, 140515: 12, 140469: 4, 140482: 14, 140513: 21, 140757: 20, 140744: 14, 140776: 7, 140769: 14, 140730: 15, 140771: 15, 140735: 18, 140718: 24, 140732: 15, 140719: 18, 140770: 14, 140723: 12, 140763: 2, 140746: 12, 140725: 30, 140669: 2, 140664: 2, 140715: 24, 140671: 6, 140673: 20, 140692: 12, 140711: 10, 140716: 12, 140681: 20, 140668: 6, 140679: 1, 140712: 10, 140677: 20, 140858: 15, 140847: 3, 140851: 12, 140850: 1, 140859: 10, 140861: 8, 140848: 12, 140852: 10, 140860: 34, 140855: 12, 140899: 18, 140900: 14, 140897: 40, 140891: 23, 140895: 12, 140898: 14, 140893: 10, 140894: 12, 141042: 12, 140993: 6, 140997: 15, 140963: 2, 141010: 6, 141037: 18, 141011: 10, 141032: 54, 141031: 8, 141005: 12, 140981: 12, 141039: 15, 141003: 15, 140987: 12, 141012: 24, 141001: 12, 141043: 10, 141040: 15, 141019: 18, 141030: 14, 141026: 15, 141238: 7, 141255: 12, 141266: 14, 141257: 28, 141259: 8, 141242: 15, 141239: 28, 141263: 2, 141268: 1, 141236: 15, 141241: 15, 141249: 7, 141217: 3, 141267: 17, 141261: 15, 141208: 24, 141246: 14, 141221: 10, 141316: 14, 141315: 15, 141312: 14, 141295: 15, 141274: 2, 141281: 21, 141280: 17, 141286: 17, 141301: 14, 141311: 20, 141247: 17, 141224: 15, 141479: 2, 141543: 17, 141469: 12, 141511: 14, 141541: 42, 141566: 34, 141504: 18, 141509: 14, 141487: 14, 141590: 7, 141502: 6, 141575: 14, 141490: 15, 141532: 15, 141549: 14, 141573: 14, 141535: 15, 141547: 25, 141467: 28, 141470: 8, 141571: 14, 141466: 15, 141493: 36, 141556: 14, 141576: 54, 141433: 15, 141478: 14, 141452: 18, 141429: 14, 141432: 30, 141456: 14, 141475: 18, 141463: 6, 141473: 22, 141517: 15, 141545: 14, 141667: 20, 141699: 12, 141748: 17, 141728: 12, 141706: 10, 141744: 8, 141771: 10, 141688: 15, 141741: 15, 141715: 20, 141774: 2, 141687: 15, 141722: 18, 141708: 12, 141730: 2, 141700: 1, 141739: 15, 141789: 20, 141759: 12, 141691: 10, 141694: 6, 141696: 10, 141690: 2, 141693: 10, 141768: 14, 141716: 6, 141721: 15, 141924: 10, 141976: 36, 141978: 12, 141903: 7, 141919: 10, 141933: 12, 141955: 36, 141982: 15, 141953: 18, 141965: 10, 141959: 12, 141975: 6, 141917: 17, 141973: 10, 141967: 15, 141941: 2, 141947: 2, 141948: 10, 142015: 24, 142017: 17, 142008: 15, 142223: 21, 142196: 6, 142226: 6, 142325: 15, 142192: 14, 142271: 20, 142198: 15, 142211: 15, 142230: 6, 142329: 15, 142215: 15, 142231: 20, 142171: 12, 142173: 12, 142194: 28, 142324: 36, 142244: 15, 142177: 1, 142307: 15, 142195: 12, 142185: 10, 142207: 14, 142224: 40, 142442: 4, 142451: 14, 142418: 15, 142474: 14, 142464: 6, 142406: 12, 142423: 14, 142450: 15, 142453: 4, 142452: 6, 142444: 60, 142567: 20, 142500: 12, 142416: 15, 142575: 18, 142561: 25, 142496: 7, 142343: 8, 142411: 2, 142421: 5, 142419: 8, 142574: 15, 142565: 18, 142529: 22, 142527: 20, 142430: 18, 142436: 14, 142570: 20, 142434: 18, 142440: 4, 142428: 28, 142528: 7, 142543: 18, 142576: 2, 142578: 14, 142535: 18, 142572: 14, 142579: 15, 142513: 8, 142571: 45, 142534: 15, 142542: 14, 142577: 17, 142582: 15, 142524: 20, 142491: 34, 142493: 15, 142539: 22, 142408: 10, 142625: 15, 142601: 14, 142587: 4, 142617: 14, 142597: 30, 142588: 12, 142598: 7, 142592: 15, 142595: 18, 142626: 14, 142612: 18, 142609: 2, 142590: 12, 142594: 14, 142593: 15, 142987: 12, 142964: 10, 143013: 36, 143085: 14, 143030: 8, 143074: 20, 143056: 18, 143105: 17, 143017: 14, 143046: 1, 143038: 20, 143025: 12, 143088: 14, 143097: 4, 143022: 22, 143035: 28, 142963: 2, 142969: 1, 143018: 14, 143000: 15, 142989: 15, 142993: 15, 142984: 15, 142962: 8, 142974: 20, 142995: 12, 142942: 15, 142997: 2, 142986: 20, 142959: 12, 142968: 4, 142967: 12, 143019: 21, 142975: 12, 142956: 30, 142979: 14, 142976: 15, 143332: 12, 143249: 10, 143286: 24, 143318: 8, 143266: 12, 143238: 2, 143257: 10, 143316: 10, 143295: 24, 143272: 10, 143287: 36, 143244: 12, 143259: 12, 143261: 10, 143291: 12, 143258: 10, 143310: 12, 143241: 20, 143312: 6, 143285: 24, 143322: 10, 143271: 12, 143246: 12, 143292: 24, 143298: 15, 143463: 5, 143527: 12, 143607: 12, 143517: 4, 143613: 12, 143534: 20, 143513: 12, 143548: 10, 143533: 12, 142623: 15, 143526: 2, 143587: 2, 143540: 8, 143546: 3, 143571: 15, 143551: 10, 143510: 10, 143580: 12, 143516: 10, 143618: 10, 143528: 4, 143556: 10, 143563: 18, 143560: 20, 143777: 18, 143838: 18, 143974: 15, 143862: 36, 143874: 18, 143872: 10, 143825: 17, 143845: 21, 143890: 15, 143811: 15, 143792: 15, 143770: 12, 143867: 2, 143830: 7, 143854: 14, 143755: 10, 143775: 63, 143820: 20, 143816: 4, 143806: 16, 143783: 20, 144228: 30, 144237: 18, 144216: 20, 144229: 15, 144159: 2, 144235: 20, 144128: 36, 144202: 7, 144121: 14, 144131: 14, 144236: 15, 144227: 15, 144217: 25, 144122: 15, 144197: 15, 144205: 29, 144232: 30, 144230: 21, 144414: 22, 144254: 12, 144339: 4, 144395: 18, 144297: 15, 144282: 14, 144396: 8, 144311: 17, 144283: 4, 144289: 4, 144276: 12, 144268: 24, 144287: 45, 144308: 14, 144274: 36, 144310: 15, 144404: 18, 144256: 12, 144302: 14, 144346: 10, 144386: 18, 144345: 15, 144252: 10, 144316: 15, 144381: 28, 144401: 14, 144390: 14, 144911: 14, 144860: 10, 144921: 20, 144894: 15, 144828: 30, 144852: 12, 144887: 15, 144869: 12, 144848: 20, 144882: 15, 144955: 20, 144874: 14, 144865: 12, 144827: 15, 144973: 15, 144826: 18, 144898: 4, 144850: 10, 144883: 6, 144915: 2, 144922: 14, 144886: 30, 144945: 14, 144884: 12, 144851: 10, 144914: 14, 145139: 10, 145212: 10, 145208: 2, 145188: 1, 145182: 10, 145152: 8, 145198: 24, 145136: 10, 145102: 10, 145137: 6, 145170: 15, 145186: 15, 145193: 12, 145226: 6, 145216: 7, 145194: 48, 145225: 12, 145128: 14, 145166: 12, 145163: 20, 145158: 15, 145197: 12, 145468: 3, 145412: 10, 145406: 14, 145469: 12, 145467: 10, 145451: 12, 145411: 1, 145490: 21, 145428: 12, 145476: 18, 145434: 12, 145474: 15, 145500: 10, 145473: 12, 145499: 8, 145413: 10, 145444: 10, 145405: 14, 145426: 12, 145483: 14, 145393: 8, 145494: 15, 145438: 24, 145432: 12, 145743: 15, 145667: 12, 145750: 14, 145684: 14, 145696: 15, 145680: 15, 145655: 1, 145624: 24, 145714: 15, 145691: 2, 145602: 15, 145670: 15, 145649: 1, 145704: 14, 145685: 15, 145746: 15, 145721: 17, 145694: 14, 145692: 2, 145650: 6, 145660: 24, 145634: 6, 145747: 14, 146042: 18, 146144: 15, 145985: 15, 146038: 15, 146029: 4, 146130: 14, 146016: 15, 146101: 30, 146072: 8, 146084: 20, 146112: 30, 146110: 18, 146055: 30, 146033: 22, 146166: 18, 146134: 14, 146099: 18, 146165: 60, 146051: 14, 146074: 15, 146111: 30, 146023: 14, 146013: 15, 146232: 22, 146264: 56, 146276: 15, 146222: 14, 146245: 14, 146236: 14, 146169: 18, 146251: 20, 146275: 15, 146274: 15, 146273: 1, 146233: 15, 146171: 2, 146238: 14, 146209: 10, 146234: 45, 146193: 6, 146308: 14, 146267: 25, 146263: 10, 146254: 14, 146253: 20}\n"
     ]
    }
   ],
   "source": [
    "# creating dictionary for column 'Order_ID' & 'TOTAL'\n",
    "order_total_dict= dict(zip(order.Order_ID, order.TOTAL))\n",
    "print(order_total_dict)"
   ]
  },
  {
   "cell_type": "code",
   "execution_count": 32,
   "id": "b6da7e60",
   "metadata": {},
   "outputs": [],
   "source": [
    "# Implement discount to customer\n",
    "class Discount:\n",
    "    \n",
    "    def __init__ (self,amount):\n",
    "        self.amount = amount\n",
    "    \n",
    "    def get_discount(self):\n",
    "        eligible_id = dict()\n",
    "        for key,value in order_total_dict.items():\n",
    "            if value >= self.amount:\n",
    "                eligible_id[key]=value\n",
    "        return print(eligible_id)\n",
    "    \n",
    "    # set the discount amount when applying specific amount\n",
    "    def discount_amount(self):\n",
    "        discount = 0\n",
    "        if self.amount <= 20:\n",
    "            discount_amount = '1%'\n",
    "            print(\"Discount\", discount_amount)\n",
    "        elif self.amount <= 30:\n",
    "            discount_amount = '2%'\n",
    "            print(\"Discount\", discount_amount)\n",
    "        elif self.amount <= 40:\n",
    "            discount_amount = '3%'\n",
    "            print(\"Discount\", discount_amount)\n",
    "        elif self.amount <= 50:\n",
    "            discount_amount = '4%'\n",
    "            print(\"Discount\",discount_amount)\n"
   ]
  },
  {
   "cell_type": "code",
   "execution_count": 33,
   "id": "355f3e2c",
   "metadata": {},
   "outputs": [
    {
     "name": "stdout",
     "output_type": "stream",
     "text": [
      "{139006: 36, 138939: 54, 139184: 30, 139328: 44, 140298: 30, 140302: 42, 140219: 45, 140512: 75, 140483: 42, 140544: 36, 140725: 30, 140860: 34, 140897: 40, 141032: 54, 141541: 42, 141566: 34, 141493: 36, 141576: 54, 141432: 30, 141976: 36, 141955: 36, 142324: 36, 142224: 40, 142444: 60, 142571: 45, 142491: 34, 142597: 30, 143013: 36, 142956: 30, 143287: 36, 143862: 36, 143775: 63, 144228: 30, 144128: 36, 144232: 30, 144287: 45, 144274: 36, 144828: 30, 144886: 30, 145194: 48, 146101: 30, 146112: 30, 146055: 30, 146165: 60, 146111: 30, 146264: 56, 146234: 45}\n",
      "Discount 2%\n"
     ]
    }
   ],
   "source": [
    "# testing code\n",
    "Promo2 = Discount(30)\n",
    "Promo2.get_discount()\n",
    "Promo2.discount_amount()"
   ]
  },
  {
   "cell_type": "code",
   "execution_count": 34,
   "id": "32d152a6",
   "metadata": {},
   "outputs": [
    {
     "name": "stdout",
     "output_type": "stream",
     "text": [
      "{138939: 54, 140512: 75, 141032: 54, 141576: 54, 142444: 60, 143775: 63, 146165: 60, 146264: 56}\n",
      "Discount 4%\n"
     ]
    }
   ],
   "source": [
    "# testing code\n",
    "Promo4 = Discount(50)\n",
    "Promo4.get_discount()\n",
    "Promo4.discount_amount()"
   ]
  },
  {
   "cell_type": "code",
   "execution_count": 35,
   "id": "39231a9b",
   "metadata": {},
   "outputs": [],
   "source": [
    "# change food type into a list\n",
    "food_type_list = order['FOOD TYPE'].tolist()\n",
    "#print(food_type_list)"
   ]
  },
  {
   "cell_type": "code",
   "execution_count": 36,
   "id": "0a8f2703",
   "metadata": {},
   "outputs": [
    {
     "name": "stdout",
     "output_type": "stream",
     "text": [
      "['ENTREE', 'BREAKFAST', 'SALAD', 'SALAD', 'BREAKFAST', 'BREAKFAST', 'STARTERS', 'PIZZA', 'STARTERS', 'RICE BOWLS AND PASTA', 'PIZZA', 'SANDWICH', 'SALAD', 'SALAD', 'STARTERS', 'BREAKFAST', 'BREAKFAST', 'SALAD', 'BREAKFAST', 'SALAD', 'SOUP', 'ENTREE', 'RICE BOWLS AND PASTA', 'SALAD', 'STARTERS', 'BREAKFAST', 'SANDWICH', 'STARTERS', 'BREAKFAST', 'SIDE / ADD ON', 'JUNIOR MENU', 'BREAKFAST', 'SIDE / ADD ON', 'BREAKFAST', 'ENTREE', 'ENTREE', 'SANDWICH', 'SANDWICH', 'BREAKFAST', 'BREAKFAST', 'BREAKFAST', 'BREAKFAST', 'BREAKFAST', 'BREAKFAST', 'BREAKFAST', 'STARTERS', 'RICE BOWLS AND PASTA', 'SANDWICH', 'BREAKFAST', 'BREAKFAST', 'SIDE / ADD ON', 'SIDE / ADD ON', 'STARTERS', 'SANDWICH', 'BREAKFAST', 'RICE BOWLS AND PASTA', 'STARTERS', 'STARTERS', 'STARTERS', 'RICE BOWLS AND PASTA', 'BREAKFAST', 'BREAKFAST', 'SIDE / ADD ON', 'SIDE / ADD ON', 'BREAKFAST', 'BREAKFAST', 'BREAKFAST', 'BREAKFAST', 'BREAKFAST', 'SIDE / ADD ON', 'BREAKFAST', 'SALAD', 'SOUP', 'SALAD', 'SIDE / ADD ON', 'SANDWICH', 'STARTERS', 'SIDE / ADD ON', 'SIDE / ADD ON', 'STARTERS', 'STARTERS', 'SALAD', 'ENTREE', 'SPECIALS', 'SPECIALS', 'JUNIOR MENU', 'JUNIOR MENU', 'SIDE / ADD ON', 'STARTERS', 'STARTERS', 'STARTERS', 'BREAKFAST', 'SIDE / ADD ON', 'SIDE / ADD ON', 'BREAKFAST', 'STARTERS', 'BREAKFAST', 'BREAKFAST', 'BREAKFAST', 'SANDWICH', 'ENTREE', 'SANDWICH', 'ENTREE', 'SANDWICH', 'BREAKFAST', 'BREAKFAST', 'SANDWICH', 'BREAKFAST', 'BREAKFAST', 'BREAKFAST', 'BREAKFAST', 'RICE BOWLS AND PASTA', 'SALAD', 'ENTREE', 'BREAKFAST', 'BREAKFAST', 'SIDE / ADD ON', 'SIDE / ADD ON', 'SIDE / ADD ON', 'BREAKFAST', 'SANDWICH', 'SANDWICH', 'SANDWICH', 'BREAKFAST', 'BREAKFAST', 'JUNIOR MENU', 'JUNIOR MENU', 'SANDWICH', 'SANDWICH', 'BREAKFAST', 'SIDE / ADD ON', 'BREAKFAST', 'SANDWICH', 'BREAKFAST', 'JUNIOR MENU', 'BREAKFAST', 'BREAKFAST', 'BREAKFAST', 'STARTERS', 'STARTERS', 'SALAD', 'BREAKFAST', 'SOUP', 'RICE BOWLS AND PASTA', 'RICE BOWLS AND PASTA', 'SANDWICH', 'SOUP', 'STARTERS', 'STARTERS', 'STARTERS', 'STARTERS', 'SOUP', 'STARTERS', 'SANDWICH', 'SALAD', 'SIDE / ADD ON', 'RICE BOWLS AND PASTA', 'SANDWICH', 'SANDWICH', 'STARTERS', 'SALAD', 'SALAD', 'STARTERS', 'SOUP', 'SANDWICH', 'RICE BOWLS AND PASTA', 'RICE BOWLS AND PASTA', 'STARTERS', 'SALAD', 'SALAD', 'RICE BOWLS AND PASTA', 'SANDWICH', 'BREAKFAST', 'STARTERS', 'STARTERS', 'RICE BOWLS AND PASTA', 'RICE BOWLS AND PASTA', 'SANDWICH', 'SANDWICH', 'SANDWICH', 'STARTERS', 'RICE BOWLS AND PASTA', 'SALAD', 'SALAD', 'SIDE / ADD ON', 'SALAD', 'BREAKFAST', 'SANDWICH', 'BREAKFAST', 'ENTREE', 'STARTERS', 'SIDE / ADD ON', 'SIDE / ADD ON', 'STARTERS', 'SALAD', 'SOUP', 'BREAKFAST', 'BREAKFAST', 'SIDE / ADD ON', 'SIDE / ADD ON', 'STARTERS', 'STARTERS', 'BREAKFAST', 'STARTERS', 'SANDWICH', 'SANDWICH', 'BREAKFAST', 'BREAKFAST', 'STARTERS', 'STARTERS', 'SIDE / ADD ON', 'STARTERS', 'SIDE / ADD ON', 'STARTERS', 'JUNIOR MENU', 'JUNIOR MENU', 'BREAKFAST', 'SANDWICH', 'SANDWICH', 'BREAKFAST', 'SALAD', 'SOUP', 'BREAKFAST', 'BREAKFAST', 'SOUP', 'SALAD', 'SALAD', 'SIDE / ADD ON', 'SALAD', 'SIDE / ADD ON', 'JUNIOR MENU', 'JUNIOR MENU', 'RICE BOWLS AND PASTA', 'RICE BOWLS AND PASTA', 'PIZZA', 'STARTERS', 'SANDWICH', 'SANDWICH', 'RICE BOWLS AND PASTA', 'SALAD', 'JUNIOR MENU', 'SANDWICH', 'RICE BOWLS AND PASTA', 'BREAKFAST', 'BREAKFAST', 'RICE BOWLS AND PASTA', 'SANDWICH', 'SANDWICH', 'RICE BOWLS AND PASTA', 'RICE BOWLS AND PASTA', 'RICE BOWLS AND PASTA', 'RICE BOWLS AND PASTA', 'SALAD', 'SOUP', 'RICE BOWLS AND PASTA', 'RICE BOWLS AND PASTA', 'SANDWICH', 'SALAD', 'SIDE / ADD ON', 'STARTERS', 'STARTERS', 'STARTERS', 'BREAKFAST', 'BREAKFAST', 'STARTERS', 'PIZZA', 'ENTREE', 'SANDWICH', 'SALAD', 'SANDWICH', 'SALAD', 'JUNIOR MENU', 'JUNIOR MENU', 'SALAD', 'STARTERS', 'SOUP', 'SANDWICH', 'BREAKFAST', 'BREAKFAST', 'SIDE / ADD ON', 'SANDWICH', 'SANDWICH', 'SALAD', 'STARTERS', 'STARTERS', 'SOUP', 'RICE BOWLS AND PASTA', 'STARTERS', 'STARTERS', 'SOUP', 'STARTERS', 'SANDWICH', 'SANDWICH', 'BREAKFAST', 'ENTREE', 'SANDWICH', 'STARTERS', 'BREAKFAST', 'BREAKFAST', 'BREAKFAST', 'SIDE / ADD ON', 'BREAKFAST', 'SANDWICH', 'SANDWICH', 'BREAKFAST', 'PIZZA', 'SANDWICH', 'RICE BOWLS AND PASTA', 'STARTERS', 'SALAD', 'SALAD', 'BREAKFAST', 'BREAKFAST', 'STARTERS', 'SIDE / ADD ON', 'SANDWICH', 'BREAKFAST', 'BREAKFAST', 'BREAKFAST', 'SANDWICH', 'BREAKFAST', 'BREAKFAST', 'BREAKFAST', 'BREAKFAST', 'BREAKFAST', 'BREAKFAST', 'BREAKFAST', 'BREAKFAST', 'BREAKFAST', 'BREAKFAST', 'SIDE / ADD ON', 'SIDE / ADD ON', 'BREAKFAST', 'BREAKFAST', 'BREAKFAST', 'BREAKFAST', 'SANDWICH', 'BREAKFAST', 'BREAKFAST', 'BREAKFAST', 'BREAKFAST', 'BREAKFAST', 'SIDE / ADD ON', 'BREAKFAST', 'BREAKFAST', 'BREAKFAST', 'BREAKFAST', 'BREAKFAST', 'SALAD', 'SANDWICH', 'STARTERS', 'SIDE / ADD ON', 'SIDE / ADD ON', 'DESSERTS', 'ENTREE', 'BREAKFAST', 'SIDE / ADD ON', 'BREAKFAST', 'BREAKFAST', 'BREAKFAST', 'SIDE / ADD ON', 'SIDE / ADD ON', 'BREAKFAST', 'ENTREE', 'JUNIOR MENU', 'DESSERTS', 'JUNIOR MENU', 'RICE BOWLS AND PASTA', 'SANDWICH', 'SALAD', 'BREAKFAST', 'BREAKFAST', 'BREAKFAST', 'BREAKFAST', 'STARTERS', 'SANDWICH', 'BREAKFAST', 'BREAKFAST', 'BREAKFAST', 'SOUP', 'BREAKFAST', 'SALAD', 'STARTERS', 'STARTERS', 'RICE BOWLS AND PASTA', 'STARTERS', 'ENTREE', 'SOUP', 'RICE BOWLS AND PASTA', 'RICE BOWLS AND PASTA', 'BREAKFAST', 'BREAKFAST', 'STARTERS', 'SALAD', 'BREAKFAST', 'BREAKFAST', 'BREAKFAST', 'BREAKFAST', 'BREAKFAST', 'BREAKFAST', 'BREAKFAST', 'SOUP', 'BREAKFAST', 'SANDWICH', 'BREAKFAST', 'BREAKFAST', 'BREAKFAST', 'SIDE / ADD ON', 'STARTERS', 'SOUP', 'STARTERS', 'SANDWICH', 'BREAKFAST', 'SANDWICH', 'STARTERS', 'SOUP', 'SANDWICH', 'BREAKFAST', 'SANDWICH', 'STARTERS', 'SANDWICH', 'BREAKFAST', 'BREAKFAST', 'BREAKFAST', 'BREAKFAST', 'BREAKFAST', 'BREAKFAST', 'SANDWICH', 'BREAKFAST', 'JUNIOR MENU', 'BREAKFAST', 'BREAKFAST', 'STARTERS', 'STARTERS', 'SOUP', 'BREAKFAST', 'SANDWICH', 'BREAKFAST', 'STARTERS', 'SANDWICH', 'SANDWICH', 'RICE BOWLS AND PASTA', 'STARTERS', 'SALAD', 'SANDWICH', 'RICE BOWLS AND PASTA', 'SALAD', 'SOUP', 'SOUP', 'DESSERTS', 'SANDWICH', 'STARTERS', 'STARTERS', 'SIDE / ADD ON', 'SALAD', 'SOUP', 'SIDE / ADD ON', 'BREAKFAST', 'BREAKFAST', 'BREAKFAST', 'ENTREE', 'SANDWICH', 'SANDWICH', 'PIZZA', 'STARTERS', 'SALAD', 'SALAD', 'SOUP', 'JUNIOR MENU', 'BREAKFAST', 'SIDE / ADD ON', 'SIDE / ADD ON', 'SIDE / ADD ON', 'SANDWICH', 'SALAD', 'SANDWICH', 'SALAD', 'PIZZA', 'BREAKFAST', 'BREAKFAST', 'SOUP', 'STARTERS', 'SOUP', 'STARTERS', 'BREAKFAST', 'STARTERS', 'RICE BOWLS AND PASTA', 'SANDWICH', 'STARTERS', 'STARTERS', 'STARTERS', 'SANDWICH', 'STARTERS', 'SALAD', 'SALAD', 'SALAD', 'SIDE / ADD ON', 'JUNIOR MENU', 'SALAD', 'SOUP', 'SIDE / ADD ON', 'SANDWICH', 'SANDWICH', 'ENTREE', 'JUNIOR MENU', 'ENTREE', 'STARTERS', 'STARTERS', 'RICE BOWLS AND PASTA', 'SANDWICH', 'STARTERS', 'SALAD', 'SANDWICH', 'SANDWICH', 'SANDWICH', 'BREAKFAST', 'SANDWICH', 'BREAKFAST', 'SIDE / ADD ON', 'SANDWICH', 'BREAKFAST', 'SIDE / ADD ON', 'BREAKFAST', 'SALAD', 'STARTERS', 'SANDWICH', 'SALAD', 'STARTERS', 'STARTERS', 'SANDWICH', 'STARTERS', 'DESSERTS', 'SALAD', 'SALAD', 'STARTERS', 'STARTERS', 'STARTERS', 'RICE BOWLS AND PASTA', 'ENTREE', 'SANDWICH', 'SANDWICH', 'STARTERS', 'STARTERS', 'RICE BOWLS AND PASTA', 'STARTERS', 'PIZZA', 'SANDWICH', 'STARTERS', 'SOUP', 'SOUP', 'STARTERS', 'BREAKFAST', 'ENTREE', 'RICE BOWLS AND PASTA', 'STARTERS', 'STARTERS', 'STARTERS', 'SALAD', 'STARTERS', 'STARTERS', 'SANDWICH', 'SALAD', 'BREAKFAST', 'STARTERS', 'STARTERS', 'SANDWICH', 'SANDWICH', 'SANDWICH', 'ENTREE', 'SANDWICH', 'SANDWICH', 'SANDWICH', 'JUNIOR MENU', 'BREAKFAST', 'BREAKFAST', 'STARTERS', 'RICE BOWLS AND PASTA', 'ENTREE', 'STARTERS', 'SANDWICH', 'SANDWICH', 'STARTERS', 'STARTERS', 'STARTERS', 'STARTERS', 'STARTERS', 'STARTERS', 'STARTERS', 'BREAKFAST', 'BREAKFAST', 'BREAKFAST', 'STARTERS', 'SIDE / ADD ON', 'SIDE / ADD ON', 'SIDE / ADD ON', 'SIDE / ADD ON', 'SOUP', 'STARTERS', 'BREAKFAST', 'BREAKFAST', 'SANDWICH', 'SANDWICH', 'STARTERS', 'SALAD', 'SANDWICH', 'BREAKFAST', 'BREAKFAST', 'BREAKFAST', 'SIDE / ADD ON', 'RICE BOWLS AND PASTA', 'SANDWICH', 'SANDWICH', 'SANDWICH', 'BREAKFAST', 'BREAKFAST', 'BREAKFAST', 'BREAKFAST', 'BREAKFAST', 'BREAKFAST', 'SANDWICH', 'BREAKFAST', 'SIDE / ADD ON', 'BREAKFAST', 'SIDE / ADD ON', 'SIDE / ADD ON', 'SIDE / ADD ON', 'SANDWICH', 'STARTERS', 'BREAKFAST', 'STARTERS', 'BREAKFAST', 'STARTERS', 'BREAKFAST', 'BREAKFAST', 'BREAKFAST', 'BREAKFAST', 'BREAKFAST', 'BREAKFAST', 'BREAKFAST', 'BREAKFAST', 'BREAKFAST', 'SALAD', 'BREAKFAST', 'SIDE / ADD ON', 'SIDE / ADD ON', 'BREAKFAST', 'SANDWICH', 'JUNIOR MENU', 'SANDWICH', 'BREAKFAST', 'ENTREE', 'RICE BOWLS AND PASTA', 'STARTERS', 'BREAKFAST', 'STARTERS', 'BREAKFAST', 'DESSERTS', 'DESSERTS', 'BREAKFAST', 'BREAKFAST', 'BREAKFAST', 'SIDE / ADD ON', 'BREAKFAST', 'BREAKFAST', 'BREAKFAST', 'SANDWICH', 'DESSERTS', 'SIDE / ADD ON', 'BREAKFAST', 'BREAKFAST', 'BREAKFAST', 'STARTERS', 'BREAKFAST', 'SANDWICH', 'JUNIOR MENU', 'SOUP', 'STARTERS', 'RICE BOWLS AND PASTA', 'SANDWICH', 'STARTERS', 'SANDWICH', 'BREAKFAST', 'JUNIOR MENU', 'BREAKFAST', 'ENTREE', 'SIDE / ADD ON', 'SANDWICH', 'STARTERS', 'SIDE / ADD ON', 'BREAKFAST', 'BREAKFAST', 'BREAKFAST', 'BREAKFAST', 'BREAKFAST', 'BREAKFAST', 'BREAKFAST', 'BREAKFAST', 'STARTERS', 'SANDWICH', 'BREAKFAST', 'STARTERS', 'RICE BOWLS AND PASTA', 'SALAD', 'SALAD', 'RICE BOWLS AND PASTA', 'SANDWICH', 'SOUP', 'SALAD', 'STARTERS', 'STARTERS', 'SANDWICH', 'SOUP', 'PIZZA', 'STARTERS', 'RICE BOWLS AND PASTA', 'RICE BOWLS AND PASTA', 'STARTERS', 'PIZZA', 'SANDWICH', 'SANDWICH', 'SOUP', 'SALAD', 'SALAD', 'SIDE / ADD ON', 'ENTREE', 'STARTERS', 'STARTERS', 'STARTERS', 'SALAD', 'JUNIOR MENU', 'BREAKFAST', 'BREAKFAST', 'BREAKFAST', 'BREAKFAST', 'SALAD', 'SALAD', 'STARTERS', 'SANDWICH', 'BREAKFAST', 'BREAKFAST', 'SIDE / ADD ON', 'SIDE / ADD ON', 'SIDE / ADD ON', 'RICE BOWLS AND PASTA', 'STARTERS', 'SANDWICH', 'SOUP', 'BREAKFAST', 'BREAKFAST', 'BREAKFAST', 'SALAD', 'RICE BOWLS AND PASTA', 'SPECIALS', 'SALAD', 'STARTERS', 'RICE BOWLS AND PASTA', 'SANDWICH', 'SANDWICH', 'SALAD', 'SIDE / ADD ON', 'BREAKFAST', 'BREAKFAST', 'SOUP', 'STARTERS', 'SANDWICH', 'SPECIALS', 'SOUP', 'RICE BOWLS AND PASTA', 'SALAD', 'SIDE / ADD ON', 'SPECIALS', 'SANDWICH', 'SANDWICH', 'RICE BOWLS AND PASTA', 'RICE BOWLS AND PASTA', 'RICE BOWLS AND PASTA', 'STARTERS', 'SALAD', 'SANDWICH', 'SALAD', 'ENTREE', 'ENTREE', 'RICE BOWLS AND PASTA', 'SANDWICH', 'ENTREE', 'SIDE / ADD ON', 'SOUP', 'BREAKFAST', 'SOUP', 'BREAKFAST', 'SIDE / ADD ON', 'SOUP', 'ENTREE', 'STARTERS', 'STARTERS', 'SOUP', 'RICE BOWLS AND PASTA', 'SOUP', 'STARTERS', 'STARTERS', 'PIZZA', 'SOUP', 'STARTERS', 'STARTERS', 'SANDWICH', 'RICE BOWLS AND PASTA', 'ENTREE', 'SALAD', 'SANDWICH', 'RICE BOWLS AND PASTA', 'RICE BOWLS AND PASTA', 'STARTERS', 'SOUP', 'SPECIALS', 'STARTERS', 'DESSERTS', 'DESSERTS', 'SALAD', 'SOUP', 'SALAD', 'STARTERS', 'DESSERTS', 'STARTERS', 'SOUP', 'RICE BOWLS AND PASTA', 'STARTERS', 'STARTERS', 'RICE BOWLS AND PASTA', 'STARTERS', 'STARTERS', 'STARTERS', 'STARTERS', 'SIDE / ADD ON', 'SOUP', 'SOUP', 'JUNIOR MENU', 'STARTERS', 'ENTREE', 'ENTREE', 'ENTREE', 'RICE BOWLS AND PASTA', 'STARTERS', 'SANDWICH', 'RICE BOWLS AND PASTA', 'STARTERS', 'SOUP', 'SALAD', 'RICE BOWLS AND PASTA', 'SANDWICH', 'SANDWICH', 'RICE BOWLS AND PASTA', 'RICE BOWLS AND PASTA', 'STARTERS', 'SANDWICH', 'SANDWICH', 'SANDWICH', 'SANDWICH', 'SANDWICH', 'DESSERTS', 'DESSERTS', 'DESSERTS', 'SALAD', 'SANDWICH', 'SANDWICH', 'SALAD', 'ENTREE', 'BREAKFAST', 'STARTERS', 'STARTERS', 'SALAD', 'BREAKFAST', 'BREAKFAST', 'ENTREE', 'RICE BOWLS AND PASTA', 'SANDWICH', 'STARTERS', 'SOUP', 'ENTREE', 'BREAKFAST', 'SOUP', 'PIZZA', 'SIDE / ADD ON', 'SANDWICH', 'SALAD', 'SALAD', 'STARTERS', 'STARTERS', 'ENTREE', 'SIDE / ADD ON', 'BREAKFAST', 'SANDWICH', 'SANDWICH', 'SOUP', 'STARTERS', 'SANDWICH', 'BREAKFAST', 'BREAKFAST', 'RICE BOWLS AND PASTA', 'STARTERS', 'RICE BOWLS AND PASTA', 'SALAD', 'SALAD', 'SOUP', 'STARTERS', 'ENTREE', 'RICE BOWLS AND PASTA', 'STARTERS', 'STARTERS', 'SANDWICH', 'DESSERTS', 'DESSERTS', 'STARTERS', 'SIDE / ADD ON', 'JUNIOR MENU', 'BREAKFAST', 'STARTERS', 'STARTERS', 'SIDE / ADD ON', 'ENTREE', 'ENTREE', 'SANDWICH', 'SANDWICH', 'SALAD', 'ENTREE', 'STARTERS', 'RICE BOWLS AND PASTA', 'JUNIOR MENU', 'STARTERS', 'STARTERS', 'RICE BOWLS AND PASTA', 'ENTREE', 'SOUP', 'RICE BOWLS AND PASTA', 'STARTERS', 'STARTERS', 'BREAKFAST', 'SIDE / ADD ON', 'SIDE / ADD ON', 'BREAKFAST', 'SIDE / ADD ON', 'STARTERS', 'STARTERS', 'PIZZA', 'SANDWICH', 'SANDWICH', 'SANDWICH', 'SANDWICH', 'SANDWICH', 'SALAD', 'BREAKFAST', 'SANDWICH', 'RICE BOWLS AND PASTA', 'BREAKFAST', 'BREAKFAST', 'PIZZA', 'STARTERS', 'PIZZA', 'STARTERS', 'SIDE / ADD ON', 'DESSERTS', 'BREAKFAST', 'BREAKFAST', 'SOUP', 'BREAKFAST', 'STARTERS', 'STARTERS', 'SANDWICH', 'RICE BOWLS AND PASTA', 'SIDE / ADD ON', 'ENTREE', 'ENTREE', 'SANDWICH', 'RICE BOWLS AND PASTA', 'BREAKFAST', 'BREAKFAST', 'BREAKFAST', 'PIZZA', 'SALAD', 'SANDWICH', 'SALAD', 'BREAKFAST', 'BREAKFAST', 'BREAKFAST', 'BREAKFAST', 'BREAKFAST', 'BREAKFAST', 'SALAD', 'SOUP', 'SIDE / ADD ON', 'SIDE / ADD ON', 'SIDE / ADD ON', 'BREAKFAST', 'BREAKFAST', 'BREAKFAST', 'BREAKFAST', 'BREAKFAST', 'STARTERS', 'SANDWICH', 'BREAKFAST', 'BREAKFAST', 'BREAKFAST', 'BREAKFAST', 'BREAKFAST', 'BREAKFAST', 'BREAKFAST', 'BREAKFAST', 'BREAKFAST', 'SIDE / ADD ON', 'SIDE / ADD ON', 'SIDE / ADD ON', 'BREAKFAST', 'BREAKFAST', 'BREAKFAST', 'BREAKFAST', 'BREAKFAST', 'BREAKFAST', 'BREAKFAST', 'SANDWICH', 'SALAD', 'SIDE / ADD ON', 'BREAKFAST', 'BREAKFAST', 'BREAKFAST', 'SOUP', 'SANDWICH', 'SIDE / ADD ON', 'BREAKFAST', 'BREAKFAST', 'BREAKFAST', 'BREAKFAST', 'SALAD', 'BREAKFAST', 'SANDWICH', 'BREAKFAST', 'BREAKFAST', 'DESSERTS', 'DESSERTS', 'BREAKFAST', 'BREAKFAST', 'BREAKFAST', 'BREAKFAST', 'BREAKFAST', 'SOUP', 'BREAKFAST', 'BREAKFAST', 'BREAKFAST', 'BREAKFAST', 'BREAKFAST', 'BREAKFAST', 'SANDWICH', 'SANDWICH', 'SIDE / ADD ON', 'STARTERS', 'SOUP', 'SIDE / ADD ON', 'BREAKFAST', 'SIDE / ADD ON', 'SIDE / ADD ON', 'BREAKFAST', 'BREAKFAST', 'SIDE / ADD ON', 'SOUP', 'SANDWICH', 'SANDWICH', 'BREAKFAST', 'BREAKFAST', 'RICE BOWLS AND PASTA', 'RICE BOWLS AND PASTA', 'SALAD', 'BREAKFAST', 'BREAKFAST', 'BREAKFAST', 'BREAKFAST', 'SIDE / ADD ON', 'BREAKFAST', 'SIDE / ADD ON', 'SIDE / ADD ON', 'BREAKFAST', 'BREAKFAST', 'BREAKFAST', 'BREAKFAST', 'BREAKFAST', 'BREAKFAST', 'JUNIOR MENU', 'BREAKFAST', 'SALAD', 'SALAD', 'STARTERS', 'SALAD', 'SANDWICH', 'SANDWICH', 'SOUP', 'STARTERS', 'JUNIOR MENU', 'SALAD', 'BREAKFAST', 'SANDWICH', 'RICE BOWLS AND PASTA', 'STARTERS', 'SANDWICH', 'SOUP', 'SANDWICH', 'JUNIOR MENU', 'SALAD', 'SANDWICH', 'BREAKFAST', 'BREAKFAST', 'SIDE / ADD ON', 'SOUP', 'STARTERS', 'BREAKFAST', 'BREAKFAST', 'RICE BOWLS AND PASTA', 'SIDE / ADD ON', 'RICE BOWLS AND PASTA', 'SOUP', 'SOUP', 'RICE BOWLS AND PASTA', 'RICE BOWLS AND PASTA', 'SALAD', 'SALAD', 'SPECIALS', 'ENTREE', 'RICE BOWLS AND PASTA', 'SALAD', 'ENTREE', 'SANDWICH', 'SALAD', 'RICE BOWLS AND PASTA', 'SANDWICH', 'STARTERS', 'SANDWICH', 'SIDE / ADD ON', 'SANDWICH', 'SANDWICH', 'SANDWICH', 'RICE BOWLS AND PASTA', 'JUNIOR MENU', 'ENTREE', 'JUNIOR MENU', 'DESSERTS', 'DESSERTS', 'ENTREE', 'RICE BOWLS AND PASTA', 'STARTERS', 'STARTERS', 'RICE BOWLS AND PASTA', 'SANDWICH', 'SOUP', 'SANDWICH', 'SANDWICH', 'SANDWICH', 'SIDE / ADD ON', 'SANDWICH', 'SALAD', 'SANDWICH', 'JUNIOR MENU', 'STARTERS', 'SANDWICH', 'STARTERS', 'STARTERS', 'SANDWICH', 'SALAD', 'SOUP', 'ENTREE', 'SALAD', 'SANDWICH', 'SIDE / ADD ON', 'SANDWICH', 'RICE BOWLS AND PASTA', 'ENTREE', 'BREAKFAST', 'BREAKFAST', 'BREAKFAST', 'SOUP', 'STARTERS', 'ENTREE', 'JUNIOR MENU', 'SANDWICH', 'SANDWICH', 'STARTERS', 'RICE BOWLS AND PASTA', 'STARTERS', 'SOUP', 'SANDWICH', 'SANDWICH', 'SOUP', 'BREAKFAST', 'SIDE / ADD ON', 'SOUP', 'BREAKFAST', 'SANDWICH', 'STARTERS', 'STARTERS', 'BREAKFAST', 'SALAD', 'JUNIOR MENU', 'RICE BOWLS AND PASTA', 'SANDWICH', 'STARTERS', 'SANDWICH', 'ENTREE', 'SALAD', 'BREAKFAST', 'BREAKFAST', 'SANDWICH', 'STARTERS', 'BREAKFAST', 'RICE BOWLS AND PASTA', 'RICE BOWLS AND PASTA', 'SOUP', 'STARTERS', 'STARTERS', 'STARTERS', 'STARTERS', 'STARTERS', 'PIZZA', 'BREAKFAST', 'SANDWICH', 'SANDWICH', 'SANDWICH', 'SANDWICH', 'STARTERS', 'STARTERS', 'STARTERS', 'STARTERS', 'JUNIOR MENU', 'SOUP', 'STARTERS', 'RICE BOWLS AND PASTA', 'RICE BOWLS AND PASTA', 'BREAKFAST', 'STARTERS', 'BREAKFAST', 'BREAKFAST', 'STARTERS', 'BREAKFAST', 'PIZZA', 'BREAKFAST', 'BREAKFAST', 'BREAKFAST', 'ENTREE', 'SANDWICH', 'BREAKFAST', 'BREAKFAST', 'BREAKFAST', 'SANDWICH', 'SANDWICH', 'ENTREE', 'SIDE / ADD ON', 'DESSERTS', 'STARTERS', 'DESSERTS', 'BREAKFAST', 'BREAKFAST', 'STARTERS', 'SANDWICH', 'SIDE / ADD ON', 'SALAD', 'SANDWICH', 'SANDWICH', 'SANDWICH', 'SIDE / ADD ON', 'ENTREE', 'JUNIOR MENU', 'SOUP', 'SALAD', 'SOUP', 'BREAKFAST', 'STARTERS', 'STARTERS', 'STARTERS', 'STARTERS', 'STARTERS', 'SIDE / ADD ON', 'STARTERS', 'SANDWICH', 'SANDWICH', 'SOUP', 'STARTERS', 'STARTERS', 'BREAKFAST', 'BREAKFAST', 'RICE BOWLS AND PASTA', 'RICE BOWLS AND PASTA', 'SALAD', 'BREAKFAST', 'BREAKFAST', 'SIDE / ADD ON', 'BREAKFAST', 'BREAKFAST', 'SIDE / ADD ON', 'SIDE / ADD ON', 'BREAKFAST', 'SIDE / ADD ON', 'BREAKFAST', 'BREAKFAST', 'STARTERS', 'SIDE / ADD ON', 'BREAKFAST', 'BREAKFAST', 'BREAKFAST', 'BREAKFAST', 'BREAKFAST', 'SANDWICH', 'ENTREE', 'SANDWICH', 'ENTREE', 'ENTREE', 'BREAKFAST', 'BREAKFAST', 'SIDE / ADD ON', 'STARTERS', 'DESSERTS', 'SALAD', 'RICE BOWLS AND PASTA', 'ENTREE', 'BREAKFAST', 'SOUP', 'STARTERS', 'STARTERS', 'BREAKFAST', 'BREAKFAST', 'BREAKFAST', 'BREAKFAST', 'ENTREE', 'BREAKFAST', 'BREAKFAST', 'SANDWICH', 'BREAKFAST', 'SIDE / ADD ON', 'SIDE / ADD ON', 'SIDE / ADD ON', 'STARTERS', 'BREAKFAST', 'SIDE / ADD ON', 'SIDE / ADD ON', 'BREAKFAST', 'BREAKFAST', 'STARTERS', 'STARTERS', 'BREAKFAST', 'BREAKFAST', 'STARTERS', 'BREAKFAST', 'SIDE / ADD ON', 'BREAKFAST', 'SIDE / ADD ON', 'BREAKFAST', 'BREAKFAST', 'BREAKFAST', 'JUNIOR MENU', 'STARTERS', 'BREAKFAST', 'SIDE / ADD ON', 'BREAKFAST', 'BREAKFAST', 'DESSERTS', 'RICE BOWLS AND PASTA', 'BREAKFAST', 'SALAD', 'STARTERS', 'BREAKFAST', 'BREAKFAST', 'BREAKFAST', 'BREAKFAST', 'BREAKFAST', 'SOUP', 'BREAKFAST', 'BREAKFAST', 'BREAKFAST', 'STARTERS', 'RICE BOWLS AND PASTA', 'ENTREE', 'BREAKFAST', 'PIZZA', 'STARTERS', 'STARTERS', 'SALAD', 'SALAD', 'RICE BOWLS AND PASTA', 'SIDE / ADD ON', 'SOUP', 'SANDWICH', 'BREAKFAST', 'RICE BOWLS AND PASTA', 'RICE BOWLS AND PASTA', 'BREAKFAST', 'BREAKFAST', 'SANDWICH', 'SANDWICH', 'SANDWICH', 'BREAKFAST', 'BREAKFAST', 'ENTREE', 'STARTERS', 'STARTERS', 'STARTERS', 'SANDWICH', 'SALAD', 'SIDE / ADD ON', 'SANDWICH', 'BREAKFAST', 'BREAKFAST', 'SIDE / ADD ON', 'SIDE / ADD ON', 'RICE BOWLS AND PASTA', 'RICE BOWLS AND PASTA', 'RICE BOWLS AND PASTA', 'ENTREE', 'STARTERS', 'SANDWICH', 'BREAKFAST', 'BREAKFAST', 'STARTERS', 'BREAKFAST', 'SIDE / ADD ON', 'ENTREE', 'SIDE / ADD ON', 'BREAKFAST', 'SANDWICH', 'SALAD', 'BREAKFAST', 'SANDWICH', 'STARTERS', 'SALAD', 'SANDWICH', 'SANDWICH', 'SANDWICH', 'SANDWICH', 'RICE BOWLS AND PASTA', 'ENTREE', 'SALAD', 'STARTERS', 'SIDE / ADD ON', 'SIDE / ADD ON', 'BREAKFAST', 'BREAKFAST', 'RICE BOWLS AND PASTA', 'STARTERS', 'STARTERS', 'STARTERS', 'SANDWICH', 'STARTERS', 'STARTERS', 'PIZZA', 'RICE BOWLS AND PASTA', 'SANDWICH', 'ENTREE', 'SANDWICH', 'STARTERS', 'SIDE / ADD ON', 'SANDWICH', 'STARTERS', 'SANDWICH', 'SANDWICH', 'SPECIALS', 'SANDWICH', 'SANDWICH', 'SOUP', 'RICE BOWLS AND PASTA', 'SANDWICH', 'SPECIALS', 'RICE BOWLS AND PASTA', 'RICE BOWLS AND PASTA', 'RICE BOWLS AND PASTA', 'SOUP', 'RICE BOWLS AND PASTA', 'RICE BOWLS AND PASTA', 'SPECIALS', 'RICE BOWLS AND PASTA', 'SALAD', 'STARTERS', 'STARTERS', 'STARTERS', 'SPECIALS', 'ENTREE', 'SPECIALS', 'SANDWICH', 'STARTERS', 'SPECIALS', 'STARTERS', 'SPECIALS', 'SANDWICH', 'SANDWICH', 'ENTREE', 'STARTERS', 'STARTERS', 'SPECIALS', 'RICE BOWLS AND PASTA', 'RICE BOWLS AND PASTA', 'STARTERS', 'RICE BOWLS AND PASTA', 'RICE BOWLS AND PASTA', 'RICE BOWLS AND PASTA', 'SANDWICH', 'ENTREE', 'ENTREE', 'STARTERS', 'STARTERS', 'ENTREE', 'RICE BOWLS AND PASTA', 'STARTERS', 'STARTERS', 'STARTERS', 'STARTERS', 'SALAD', 'RICE BOWLS AND PASTA', 'SALAD', 'SANDWICH', 'BREAKFAST', 'SIDE / ADD ON', 'STARTERS', 'SIDE / ADD ON', 'SANDWICH', 'SANDWICH', 'STARTERS', 'STARTERS', 'STARTERS', 'STARTERS', 'SIDE / ADD ON', 'STARTERS', 'SALAD', 'BREAKFAST', 'SANDWICH', 'STARTERS', 'SANDWICH', 'SANDWICH', 'BREAKFAST', 'BREAKFAST', 'SANDWICH', 'ENTREE', 'PIZZA', 'SANDWICH', 'BREAKFAST', 'STARTERS', 'STARTERS', 'STARTERS', 'STARTERS', 'STARTERS']\n"
     ]
    }
   ],
   "source": [
    "#replace SANDWHICHES to SANDWICH\n",
    "\n",
    "food_type_list = ['SANDWICH' if i=='SANDWHICHES' else i for i in food_type_list]\n",
    "\n",
    "print(food_type_list)"
   ]
  },
  {
   "cell_type": "code",
   "execution_count": 37,
   "id": "c9b15a52",
   "metadata": {},
   "outputs": [],
   "source": [
    "# Check if the food type is in the list\n",
    "def food_type(*args):\n",
    "    argslist = [*args]\n",
    "    for i in range(0,len(argslist)):\n",
    "        argslist[i] = argslist[i].upper()\n",
    "        \n",
    "    for arg in argslist:\n",
    "        if arg in food_type_list:\n",
    "            print(arg, \"is in the list.\")\n",
    "        else:\n",
    "            print(arg, \"is not in the list.\")"
   ]
  },
  {
   "cell_type": "code",
   "execution_count": 38,
   "id": "8d90c559",
   "metadata": {},
   "outputs": [
    {
     "name": "stdout",
     "output_type": "stream",
     "text": [
      "SALAD is in the list.\n",
      "ENTREE is in the list.\n",
      "DRINK is not in the list.\n",
      "BEER is not in the list.\n"
     ]
    }
   ],
   "source": [
    "#testing code\n",
    "food_type('salad','entree','drink','BEER')"
   ]
  },
  {
   "cell_type": "code",
   "execution_count": 39,
   "id": "1bd92c91",
   "metadata": {},
   "outputs": [
    {
     "name": "stdout",
     "output_type": "stream",
     "text": [
      "PIZZA is in the list.\n",
      "SOUP is in the list.\n",
      "SANDWICH is in the list.\n",
      "BREAKFAST is in the list.\n"
     ]
    }
   ],
   "source": [
    "food_type('pizza','soup','SANDWICH','BREAKFAST')"
   ]
  },
  {
   "cell_type": "code",
   "execution_count": 40,
   "id": "89ee05e0",
   "metadata": {},
   "outputs": [
    {
     "name": "stdout",
     "output_type": "stream",
     "text": [
      "Do you have any allergies? Please answer 'yes' or 'no'. - HOT\n",
      "Invalid. Please try again.\n",
      "Do you have any allergies? Please answer 'yes' or 'no'. - YOU\n",
      "Invalid. Please try again.\n",
      "Do you have any allergies? Please answer 'yes' or 'no'. - NP\n",
      "Invalid. Please try again.\n",
      "Do you have any allergies? Please answer 'yes' or 'no'. - NO\n",
      "I'm fine to anything.\n"
     ]
    }
   ],
   "source": [
    "#user input - prompt if allergic to any item\n",
    "allergic = []\n",
    "while allergic != 'yes' or 'no':\n",
    "    allergic = input(str(\"Do you have any allergies? Please answer 'yes' or 'no'. - \"))\n",
    "    \n",
    "    for i in range(len(allergic)):\n",
    "        allergic = allergic.lower()\n",
    "        \n",
    "    if allergic == 'yes':\n",
    "        print(\"I have some allergies.\")\n",
    "        break\n",
    "    elif allergic == 'no':\n",
    "        print(\"I'm fine to anything.\")\n",
    "        break\n",
    "    else:\n",
    "        print(\"Invalid. Please try again.\")\n",
    "        "
   ]
  }
 ],
 "metadata": {
  "kernelspec": {
   "display_name": "Python 3",
   "language": "python",
   "name": "python3"
  },
  "language_info": {
   "codemirror_mode": {
    "name": "ipython",
    "version": 3
   },
   "file_extension": ".py",
   "mimetype": "text/x-python",
   "name": "python",
   "nbconvert_exporter": "python",
   "pygments_lexer": "ipython3",
   "version": "3.8.8"
  }
 },
 "nbformat": 4,
 "nbformat_minor": 5
}
